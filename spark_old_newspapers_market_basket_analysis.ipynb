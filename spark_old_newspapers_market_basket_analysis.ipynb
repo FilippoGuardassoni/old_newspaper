{
  "cells": [
    {
      "cell_type": "markdown",
      "metadata": {
        "id": "view-in-github",
        "colab_type": "text"
      },
      "source": [
        "<a href=\"https://colab.research.google.com/github/dummydeveloper13/old_newspaper/blob/main/spark_old_newspapers_market_basket_analysis.ipynb\" target=\"_parent\"><img src=\"https://colab.research.google.com/assets/colab-badge.svg\" alt=\"Open In Colab\"/></a>"
      ]
    },
    {
      "cell_type": "markdown",
      "metadata": {
        "id": "pD5xf-95cIpX"
      },
      "source": [
        "# IMPORTING AND LIBRARIES"
      ]
    },
    {
      "cell_type": "code",
      "source": [
        "import gc\n",
        "gc.enable()"
      ],
      "metadata": {
        "id": "SjBQOJ1P4vl4"
      },
      "execution_count": null,
      "outputs": []
    },
    {
      "cell_type": "markdown",
      "metadata": {
        "id": "lJaiiYivd68R"
      },
      "source": [
        "## Downloading dataset with API"
      ]
    },
    {
      "cell_type": "code",
      "execution_count": null,
      "metadata": {
        "colab": {
          "base_uri": "https://localhost:8080/"
        },
        "id": "SXp2c5OVc9DC",
        "outputId": "135e9a54-0405-4962-e314-f9c8357f9457"
      },
      "outputs": [
        {
          "output_type": "stream",
          "name": "stdout",
          "text": [
            "Looking in indexes: https://pypi.org/simple, https://us-python.pkg.dev/colab-wheels/public/simple/\n",
            "Requirement already satisfied: kaggle in /usr/local/lib/python3.7/dist-packages (1.5.12)\n",
            "Requirement already satisfied: python-dateutil in /usr/local/lib/python3.7/dist-packages (from kaggle) (2.8.2)\n",
            "Requirement already satisfied: certifi in /usr/local/lib/python3.7/dist-packages (from kaggle) (2022.9.24)\n",
            "Requirement already satisfied: tqdm in /usr/local/lib/python3.7/dist-packages (from kaggle) (4.64.1)\n",
            "Requirement already satisfied: python-slugify in /usr/local/lib/python3.7/dist-packages (from kaggle) (6.1.2)\n",
            "Requirement already satisfied: six>=1.10 in /usr/local/lib/python3.7/dist-packages (from kaggle) (1.15.0)\n",
            "Requirement already satisfied: requests in /usr/local/lib/python3.7/dist-packages (from kaggle) (2.23.0)\n",
            "Requirement already satisfied: urllib3 in /usr/local/lib/python3.7/dist-packages (from kaggle) (1.24.3)\n",
            "Requirement already satisfied: text-unidecode>=1.3 in /usr/local/lib/python3.7/dist-packages (from python-slugify->kaggle) (1.3)\n",
            "Requirement already satisfied: chardet<4,>=3.0.2 in /usr/local/lib/python3.7/dist-packages (from requests->kaggle) (3.0.4)\n",
            "Requirement already satisfied: idna<3,>=2.5 in /usr/local/lib/python3.7/dist-packages (from requests->kaggle) (2.10)\n"
          ]
        }
      ],
      "source": [
        "# Install Kaggle API\n",
        "!pip install --user kaggle"
      ]
    },
    {
      "cell_type": "markdown",
      "source": [
        "### Upload credentials for Kaggle API"
      ],
      "metadata": {
        "id": "6UqWPA6w52wN"
      }
    },
    {
      "cell_type": "code",
      "source": [
        "from google.colab import files\n",
        "\n",
        "uploaded = files.upload()\n",
        "\n",
        "for fn in uploaded.keys():\n",
        "  print('User uploaded file \"{name}\" with length {length} bytes'.format(\n",
        "      name=fn, length=len(uploaded[fn])))\n",
        "  \n",
        "# Then move kaggle.json into the folder where the API expects to find it.\n",
        "!mkdir -p ~/.kaggle/ && mv kaggle.json ~/.kaggle/ && chmod 600 ~/.kaggle/kaggle.json"
      ],
      "metadata": {
        "colab": {
          "base_uri": "https://localhost:8080/"
        },
        "id": "yiV0Wj_EAuWd",
        "outputId": "9494e9c6-6e5c-4a19-8881-add6242c6d9e"
      },
      "execution_count": null,
      "outputs": [
        {
          "output_type": "display_data",
          "data": {
            "text/plain": [
              "<IPython.core.display.HTML object>"
            ],
            "text/html": [
              "\n",
              "     <input type=\"file\" id=\"files-ea7b9b9e-ef42-4011-9cec-dd7b602ea1b8\" name=\"files[]\" multiple disabled\n",
              "        style=\"border:none\" />\n",
              "     <output id=\"result-ea7b9b9e-ef42-4011-9cec-dd7b602ea1b8\">\n",
              "      Upload widget is only available when the cell has been executed in the\n",
              "      current browser session. Please rerun this cell to enable.\n",
              "      </output>\n",
              "      <script>// Copyright 2017 Google LLC\n",
              "//\n",
              "// Licensed under the Apache License, Version 2.0 (the \"License\");\n",
              "// you may not use this file except in compliance with the License.\n",
              "// You may obtain a copy of the License at\n",
              "//\n",
              "//      http://www.apache.org/licenses/LICENSE-2.0\n",
              "//\n",
              "// Unless required by applicable law or agreed to in writing, software\n",
              "// distributed under the License is distributed on an \"AS IS\" BASIS,\n",
              "// WITHOUT WARRANTIES OR CONDITIONS OF ANY KIND, either express or implied.\n",
              "// See the License for the specific language governing permissions and\n",
              "// limitations under the License.\n",
              "\n",
              "/**\n",
              " * @fileoverview Helpers for google.colab Python module.\n",
              " */\n",
              "(function(scope) {\n",
              "function span(text, styleAttributes = {}) {\n",
              "  const element = document.createElement('span');\n",
              "  element.textContent = text;\n",
              "  for (const key of Object.keys(styleAttributes)) {\n",
              "    element.style[key] = styleAttributes[key];\n",
              "  }\n",
              "  return element;\n",
              "}\n",
              "\n",
              "// Max number of bytes which will be uploaded at a time.\n",
              "const MAX_PAYLOAD_SIZE = 100 * 1024;\n",
              "\n",
              "function _uploadFiles(inputId, outputId) {\n",
              "  const steps = uploadFilesStep(inputId, outputId);\n",
              "  const outputElement = document.getElementById(outputId);\n",
              "  // Cache steps on the outputElement to make it available for the next call\n",
              "  // to uploadFilesContinue from Python.\n",
              "  outputElement.steps = steps;\n",
              "\n",
              "  return _uploadFilesContinue(outputId);\n",
              "}\n",
              "\n",
              "// This is roughly an async generator (not supported in the browser yet),\n",
              "// where there are multiple asynchronous steps and the Python side is going\n",
              "// to poll for completion of each step.\n",
              "// This uses a Promise to block the python side on completion of each step,\n",
              "// then passes the result of the previous step as the input to the next step.\n",
              "function _uploadFilesContinue(outputId) {\n",
              "  const outputElement = document.getElementById(outputId);\n",
              "  const steps = outputElement.steps;\n",
              "\n",
              "  const next = steps.next(outputElement.lastPromiseValue);\n",
              "  return Promise.resolve(next.value.promise).then((value) => {\n",
              "    // Cache the last promise value to make it available to the next\n",
              "    // step of the generator.\n",
              "    outputElement.lastPromiseValue = value;\n",
              "    return next.value.response;\n",
              "  });\n",
              "}\n",
              "\n",
              "/**\n",
              " * Generator function which is called between each async step of the upload\n",
              " * process.\n",
              " * @param {string} inputId Element ID of the input file picker element.\n",
              " * @param {string} outputId Element ID of the output display.\n",
              " * @return {!Iterable<!Object>} Iterable of next steps.\n",
              " */\n",
              "function* uploadFilesStep(inputId, outputId) {\n",
              "  const inputElement = document.getElementById(inputId);\n",
              "  inputElement.disabled = false;\n",
              "\n",
              "  const outputElement = document.getElementById(outputId);\n",
              "  outputElement.innerHTML = '';\n",
              "\n",
              "  const pickedPromise = new Promise((resolve) => {\n",
              "    inputElement.addEventListener('change', (e) => {\n",
              "      resolve(e.target.files);\n",
              "    });\n",
              "  });\n",
              "\n",
              "  const cancel = document.createElement('button');\n",
              "  inputElement.parentElement.appendChild(cancel);\n",
              "  cancel.textContent = 'Cancel upload';\n",
              "  const cancelPromise = new Promise((resolve) => {\n",
              "    cancel.onclick = () => {\n",
              "      resolve(null);\n",
              "    };\n",
              "  });\n",
              "\n",
              "  // Wait for the user to pick the files.\n",
              "  const files = yield {\n",
              "    promise: Promise.race([pickedPromise, cancelPromise]),\n",
              "    response: {\n",
              "      action: 'starting',\n",
              "    }\n",
              "  };\n",
              "\n",
              "  cancel.remove();\n",
              "\n",
              "  // Disable the input element since further picks are not allowed.\n",
              "  inputElement.disabled = true;\n",
              "\n",
              "  if (!files) {\n",
              "    return {\n",
              "      response: {\n",
              "        action: 'complete',\n",
              "      }\n",
              "    };\n",
              "  }\n",
              "\n",
              "  for (const file of files) {\n",
              "    const li = document.createElement('li');\n",
              "    li.append(span(file.name, {fontWeight: 'bold'}));\n",
              "    li.append(span(\n",
              "        `(${file.type || 'n/a'}) - ${file.size} bytes, ` +\n",
              "        `last modified: ${\n",
              "            file.lastModifiedDate ? file.lastModifiedDate.toLocaleDateString() :\n",
              "                                    'n/a'} - `));\n",
              "    const percent = span('0% done');\n",
              "    li.appendChild(percent);\n",
              "\n",
              "    outputElement.appendChild(li);\n",
              "\n",
              "    const fileDataPromise = new Promise((resolve) => {\n",
              "      const reader = new FileReader();\n",
              "      reader.onload = (e) => {\n",
              "        resolve(e.target.result);\n",
              "      };\n",
              "      reader.readAsArrayBuffer(file);\n",
              "    });\n",
              "    // Wait for the data to be ready.\n",
              "    let fileData = yield {\n",
              "      promise: fileDataPromise,\n",
              "      response: {\n",
              "        action: 'continue',\n",
              "      }\n",
              "    };\n",
              "\n",
              "    // Use a chunked sending to avoid message size limits. See b/62115660.\n",
              "    let position = 0;\n",
              "    do {\n",
              "      const length = Math.min(fileData.byteLength - position, MAX_PAYLOAD_SIZE);\n",
              "      const chunk = new Uint8Array(fileData, position, length);\n",
              "      position += length;\n",
              "\n",
              "      const base64 = btoa(String.fromCharCode.apply(null, chunk));\n",
              "      yield {\n",
              "        response: {\n",
              "          action: 'append',\n",
              "          file: file.name,\n",
              "          data: base64,\n",
              "        },\n",
              "      };\n",
              "\n",
              "      let percentDone = fileData.byteLength === 0 ?\n",
              "          100 :\n",
              "          Math.round((position / fileData.byteLength) * 100);\n",
              "      percent.textContent = `${percentDone}% done`;\n",
              "\n",
              "    } while (position < fileData.byteLength);\n",
              "  }\n",
              "\n",
              "  // All done.\n",
              "  yield {\n",
              "    response: {\n",
              "      action: 'complete',\n",
              "    }\n",
              "  };\n",
              "}\n",
              "\n",
              "scope.google = scope.google || {};\n",
              "scope.google.colab = scope.google.colab || {};\n",
              "scope.google.colab._files = {\n",
              "  _uploadFiles,\n",
              "  _uploadFilesContinue,\n",
              "};\n",
              "})(self);\n",
              "</script> "
            ]
          },
          "metadata": {}
        },
        {
          "output_type": "stream",
          "name": "stdout",
          "text": [
            "Saving kaggle.json to kaggle.json\n",
            "User uploaded file \"kaggle.json\" with length 69 bytes\n"
          ]
        }
      ]
    },
    {
      "cell_type": "code",
      "execution_count": null,
      "metadata": {
        "colab": {
          "base_uri": "https://localhost:8080/"
        },
        "id": "fFcNFQn_h1X8",
        "outputId": "bf4a2e14-fafe-4040-d334-9729f4742718"
      },
      "outputs": [
        {
          "output_type": "stream",
          "name": "stdout",
          "text": [
            "Downloading old-newspapers.zip to /content\n",
            " 99% 2.03G/2.05G [00:17<00:00, 138MB/s]\n",
            "100% 2.05G/2.05G [00:17<00:00, 127MB/s]\n"
          ]
        }
      ],
      "source": [
        "# Download dataset\n",
        "!kaggle datasets download alvations/old-newspapers --force"
      ]
    },
    {
      "cell_type": "code",
      "execution_count": null,
      "metadata": {
        "colab": {
          "base_uri": "https://localhost:8080/"
        },
        "id": "byj6UGqVj0AN",
        "outputId": "a7b05d98-cc57-4016-de42-8ef25227d5d9"
      },
      "outputs": [
        {
          "output_type": "stream",
          "name": "stdout",
          "text": [
            "Archive:  old-newspapers.zip\n",
            "  inflating: old-newspaper.tsv       \n"
          ]
        }
      ],
      "source": [
        "# Unzip dataset\n",
        "!unzip 'old-newspapers.zip' -d ''"
      ]
    },
    {
      "cell_type": "markdown",
      "source": [
        "## Packages and Libraries"
      ],
      "metadata": {
        "id": "XlKANqB33a2H"
      }
    },
    {
      "cell_type": "code",
      "execution_count": null,
      "metadata": {
        "colab": {
          "base_uri": "https://localhost:8080/"
        },
        "id": "Mk-QZ0nfo6x3",
        "outputId": "f88e7bc4-8486-42f1-9256-cab1c1809e47"
      },
      "outputs": [
        {
          "output_type": "stream",
          "name": "stdout",
          "text": [
            "Looking in indexes: https://pypi.org/simple, https://us-python.pkg.dev/colab-wheels/public/simple/\n",
            "Requirement already satisfied: contractions in /usr/local/lib/python3.7/dist-packages (0.1.72)\n",
            "Requirement already satisfied: textsearch>=0.0.21 in /usr/local/lib/python3.7/dist-packages (from contractions) (0.0.24)\n",
            "Requirement already satisfied: pyahocorasick in /usr/local/lib/python3.7/dist-packages (from textsearch>=0.0.21->contractions) (1.4.4)\n",
            "Requirement already satisfied: anyascii in /usr/local/lib/python3.7/dist-packages (from textsearch>=0.0.21->contractions) (0.3.1)\n"
          ]
        }
      ],
      "source": [
        "# Install package contractions\n",
        "!pip install contractions"
      ]
    },
    {
      "cell_type": "code",
      "execution_count": null,
      "metadata": {
        "colab": {
          "base_uri": "https://localhost:8080/"
        },
        "id": "guA3S1BacFUY",
        "outputId": "9db2f1fd-a860-4c5b-c409-d0dbe7e6e1ea"
      },
      "outputs": [
        {
          "output_type": "stream",
          "name": "stdout",
          "text": [
            "Looking in indexes: https://pypi.org/simple, https://us-python.pkg.dev/colab-wheels/public/simple/\n",
            "Requirement already satisfied: nltk in /usr/local/lib/python3.7/dist-packages (3.7)\n",
            "Requirement already satisfied: regex>=2021.8.3 in /usr/local/lib/python3.7/dist-packages (from nltk) (2022.6.2)\n",
            "Requirement already satisfied: tqdm in /usr/local/lib/python3.7/dist-packages (from nltk) (4.64.1)\n",
            "Requirement already satisfied: joblib in /usr/local/lib/python3.7/dist-packages (from nltk) (1.2.0)\n",
            "Requirement already satisfied: click in /usr/local/lib/python3.7/dist-packages (from nltk) (7.1.2)\n"
          ]
        }
      ],
      "source": [
        "# Install package NLTK\n",
        "!pip install --user -U nltk"
      ]
    },
    {
      "cell_type": "code",
      "execution_count": null,
      "metadata": {
        "id": "9meUklVXcq9P"
      },
      "outputs": [],
      "source": [
        "# Import libraries\n",
        "import pandas as pd\n",
        "import numpy as np\n",
        "import string\n",
        "import csv\n",
        "import random\n",
        "import ast\n",
        "import gc\n",
        "gc.enable()"
      ]
    },
    {
      "cell_type": "code",
      "source": [
        "import contractions"
      ],
      "metadata": {
        "id": "APtE2hsv3kWp"
      },
      "execution_count": null,
      "outputs": []
    },
    {
      "cell_type": "code",
      "source": [
        "import nltk\n",
        "from nltk.corpus import stopwords\n",
        "from nltk.stem import WordNetLemmatizer\n",
        "from nltk.tokenize import word_tokenize"
      ],
      "metadata": {
        "id": "c5zeJEYX3mnO"
      },
      "execution_count": null,
      "outputs": []
    },
    {
      "cell_type": "code",
      "execution_count": null,
      "metadata": {
        "colab": {
          "base_uri": "https://localhost:8080/"
        },
        "id": "ZwZ2MrxVdp5E",
        "outputId": "3c3c133a-a5ef-48a2-bf0a-77bbb4a52ed5"
      },
      "outputs": [
        {
          "output_type": "stream",
          "name": "stderr",
          "text": [
            "[nltk_data] Downloading package stopwords to /root/nltk_data...\n",
            "[nltk_data]   Package stopwords is already up-to-date!\n",
            "[nltk_data] Downloading package punkt to /root/nltk_data...\n",
            "[nltk_data]   Package punkt is already up-to-date!\n",
            "[nltk_data] Downloading package wordnet to /root/nltk_data...\n",
            "[nltk_data]   Package wordnet is already up-to-date!\n",
            "[nltk_data] Downloading package omw-1.4 to /root/nltk_data...\n",
            "[nltk_data]   Package omw-1.4 is already up-to-date!\n"
          ]
        },
        {
          "output_type": "execute_result",
          "data": {
            "text/plain": [
              "True"
            ]
          },
          "metadata": {},
          "execution_count": 7
        }
      ],
      "source": [
        "# Download some of NLTK required packages\n",
        "nltk.download('stopwords')\n",
        "nltk.download('punkt')\n",
        "nltk.download('wordnet')\n",
        "nltk.download('omw-1.4')"
      ]
    },
    {
      "cell_type": "code",
      "source": [
        "np.random.seed(1234)"
      ],
      "metadata": {
        "id": "AgOc1JiF9KkE"
      },
      "execution_count": null,
      "outputs": []
    },
    {
      "cell_type": "markdown",
      "metadata": {
        "id": "P_CHskO4eNxo"
      },
      "source": [
        "## Read and filter dataset"
      ]
    },
    {
      "cell_type": "code",
      "execution_count": null,
      "metadata": {
        "id": "DWXYUdamcrvR"
      },
      "outputs": [],
      "source": [
        "# Read dataset\n",
        "df = pd.read_csv('old-newspaper.tsv', sep='\\t')"
      ]
    },
    {
      "cell_type": "code",
      "execution_count": null,
      "metadata": {
        "id": "Pmr8As92dSJW",
        "colab": {
          "base_uri": "https://localhost:8080/",
          "height": 363
        },
        "outputId": "5c85e197-1665-4ffd-dd7e-f16110f29447"
      },
      "outputs": [
        {
          "output_type": "execute_result",
          "data": {
            "text/plain": [
              "    Language              Source        Date  \\\n",
              "0  Afrikaans  republikein.com.na  2011/09/14   \n",
              "1  Afrikaans  republikein.com.na  2011/01/20   \n",
              "2  Afrikaans          sake24.com  2009/11/28   \n",
              "3  Afrikaans          sake24.com  2009/11/12   \n",
              "4  Afrikaans          sake24.com  2011/02/04   \n",
              "5  Afrikaans         praag.co.za  2011/06/09   \n",
              "6  Afrikaans       rapport.co.za  2011/07/15   \n",
              "7  Afrikaans  republikein.com.na  2011/05/20   \n",
              "8  Afrikaans  republikein.com.na  2011/10/19   \n",
              "9  Afrikaans         praag.co.za  2009/06/01   \n",
              "\n",
              "                                                Text  \n",
              "0  Die veranderinge aan die Britsgeboude Avensis ...  \n",
              "1  Duitsland se mans- en vrouespanne is die afgel...  \n",
              "2  Mnr. Estienne de Klerk, uitvoerende direkteur ...  \n",
              "3  Mustek is se finansiële-resultate-advertensie ...  \n",
              "4  nadat LMS se raad van trustees in Junie verled...  \n",
              "5  Hierdie hersirkulering van kaders werk net so ...  \n",
              "6  Volgens ao. November Filander, polisiewoordvoe...  \n",
              "7  Die plant is besonder gehard en kan selfs uite...  \n",
              "8  Dit volg op twee vorige ekspos deur SMEs Compe...  \n",
              "9  Daarom moet 'n Afrikanerafvaardiging so gou mo...  "
            ],
            "text/html": [
              "\n",
              "  <div id=\"df-f26a18a9-f937-4c2c-aed9-812297df9af6\">\n",
              "    <div class=\"colab-df-container\">\n",
              "      <div>\n",
              "<style scoped>\n",
              "    .dataframe tbody tr th:only-of-type {\n",
              "        vertical-align: middle;\n",
              "    }\n",
              "\n",
              "    .dataframe tbody tr th {\n",
              "        vertical-align: top;\n",
              "    }\n",
              "\n",
              "    .dataframe thead th {\n",
              "        text-align: right;\n",
              "    }\n",
              "</style>\n",
              "<table border=\"1\" class=\"dataframe\">\n",
              "  <thead>\n",
              "    <tr style=\"text-align: right;\">\n",
              "      <th></th>\n",
              "      <th>Language</th>\n",
              "      <th>Source</th>\n",
              "      <th>Date</th>\n",
              "      <th>Text</th>\n",
              "    </tr>\n",
              "  </thead>\n",
              "  <tbody>\n",
              "    <tr>\n",
              "      <th>0</th>\n",
              "      <td>Afrikaans</td>\n",
              "      <td>republikein.com.na</td>\n",
              "      <td>2011/09/14</td>\n",
              "      <td>Die veranderinge aan die Britsgeboude Avensis ...</td>\n",
              "    </tr>\n",
              "    <tr>\n",
              "      <th>1</th>\n",
              "      <td>Afrikaans</td>\n",
              "      <td>republikein.com.na</td>\n",
              "      <td>2011/01/20</td>\n",
              "      <td>Duitsland se mans- en vrouespanne is die afgel...</td>\n",
              "    </tr>\n",
              "    <tr>\n",
              "      <th>2</th>\n",
              "      <td>Afrikaans</td>\n",
              "      <td>sake24.com</td>\n",
              "      <td>2009/11/28</td>\n",
              "      <td>Mnr. Estienne de Klerk, uitvoerende direkteur ...</td>\n",
              "    </tr>\n",
              "    <tr>\n",
              "      <th>3</th>\n",
              "      <td>Afrikaans</td>\n",
              "      <td>sake24.com</td>\n",
              "      <td>2009/11/12</td>\n",
              "      <td>Mustek is se finansiële-resultate-advertensie ...</td>\n",
              "    </tr>\n",
              "    <tr>\n",
              "      <th>4</th>\n",
              "      <td>Afrikaans</td>\n",
              "      <td>sake24.com</td>\n",
              "      <td>2011/02/04</td>\n",
              "      <td>nadat LMS se raad van trustees in Junie verled...</td>\n",
              "    </tr>\n",
              "    <tr>\n",
              "      <th>5</th>\n",
              "      <td>Afrikaans</td>\n",
              "      <td>praag.co.za</td>\n",
              "      <td>2011/06/09</td>\n",
              "      <td>Hierdie hersirkulering van kaders werk net so ...</td>\n",
              "    </tr>\n",
              "    <tr>\n",
              "      <th>6</th>\n",
              "      <td>Afrikaans</td>\n",
              "      <td>rapport.co.za</td>\n",
              "      <td>2011/07/15</td>\n",
              "      <td>Volgens ao. November Filander, polisiewoordvoe...</td>\n",
              "    </tr>\n",
              "    <tr>\n",
              "      <th>7</th>\n",
              "      <td>Afrikaans</td>\n",
              "      <td>republikein.com.na</td>\n",
              "      <td>2011/05/20</td>\n",
              "      <td>Die plant is besonder gehard en kan selfs uite...</td>\n",
              "    </tr>\n",
              "    <tr>\n",
              "      <th>8</th>\n",
              "      <td>Afrikaans</td>\n",
              "      <td>republikein.com.na</td>\n",
              "      <td>2011/10/19</td>\n",
              "      <td>Dit volg op twee vorige ekspos deur SMEs Compe...</td>\n",
              "    </tr>\n",
              "    <tr>\n",
              "      <th>9</th>\n",
              "      <td>Afrikaans</td>\n",
              "      <td>praag.co.za</td>\n",
              "      <td>2009/06/01</td>\n",
              "      <td>Daarom moet 'n Afrikanerafvaardiging so gou mo...</td>\n",
              "    </tr>\n",
              "  </tbody>\n",
              "</table>\n",
              "</div>\n",
              "      <button class=\"colab-df-convert\" onclick=\"convertToInteractive('df-f26a18a9-f937-4c2c-aed9-812297df9af6')\"\n",
              "              title=\"Convert this dataframe to an interactive table.\"\n",
              "              style=\"display:none;\">\n",
              "        \n",
              "  <svg xmlns=\"http://www.w3.org/2000/svg\" height=\"24px\"viewBox=\"0 0 24 24\"\n",
              "       width=\"24px\">\n",
              "    <path d=\"M0 0h24v24H0V0z\" fill=\"none\"/>\n",
              "    <path d=\"M18.56 5.44l.94 2.06.94-2.06 2.06-.94-2.06-.94-.94-2.06-.94 2.06-2.06.94zm-11 1L8.5 8.5l.94-2.06 2.06-.94-2.06-.94L8.5 2.5l-.94 2.06-2.06.94zm10 10l.94 2.06.94-2.06 2.06-.94-2.06-.94-.94-2.06-.94 2.06-2.06.94z\"/><path d=\"M17.41 7.96l-1.37-1.37c-.4-.4-.92-.59-1.43-.59-.52 0-1.04.2-1.43.59L10.3 9.45l-7.72 7.72c-.78.78-.78 2.05 0 2.83L4 21.41c.39.39.9.59 1.41.59.51 0 1.02-.2 1.41-.59l7.78-7.78 2.81-2.81c.8-.78.8-2.07 0-2.86zM5.41 20L4 18.59l7.72-7.72 1.47 1.35L5.41 20z\"/>\n",
              "  </svg>\n",
              "      </button>\n",
              "      \n",
              "  <style>\n",
              "    .colab-df-container {\n",
              "      display:flex;\n",
              "      flex-wrap:wrap;\n",
              "      gap: 12px;\n",
              "    }\n",
              "\n",
              "    .colab-df-convert {\n",
              "      background-color: #E8F0FE;\n",
              "      border: none;\n",
              "      border-radius: 50%;\n",
              "      cursor: pointer;\n",
              "      display: none;\n",
              "      fill: #1967D2;\n",
              "      height: 32px;\n",
              "      padding: 0 0 0 0;\n",
              "      width: 32px;\n",
              "    }\n",
              "\n",
              "    .colab-df-convert:hover {\n",
              "      background-color: #E2EBFA;\n",
              "      box-shadow: 0px 1px 2px rgba(60, 64, 67, 0.3), 0px 1px 3px 1px rgba(60, 64, 67, 0.15);\n",
              "      fill: #174EA6;\n",
              "    }\n",
              "\n",
              "    [theme=dark] .colab-df-convert {\n",
              "      background-color: #3B4455;\n",
              "      fill: #D2E3FC;\n",
              "    }\n",
              "\n",
              "    [theme=dark] .colab-df-convert:hover {\n",
              "      background-color: #434B5C;\n",
              "      box-shadow: 0px 1px 3px 1px rgba(0, 0, 0, 0.15);\n",
              "      filter: drop-shadow(0px 1px 2px rgba(0, 0, 0, 0.3));\n",
              "      fill: #FFFFFF;\n",
              "    }\n",
              "  </style>\n",
              "\n",
              "      <script>\n",
              "        const buttonEl =\n",
              "          document.querySelector('#df-f26a18a9-f937-4c2c-aed9-812297df9af6 button.colab-df-convert');\n",
              "        buttonEl.style.display =\n",
              "          google.colab.kernel.accessAllowed ? 'block' : 'none';\n",
              "\n",
              "        async function convertToInteractive(key) {\n",
              "          const element = document.querySelector('#df-f26a18a9-f937-4c2c-aed9-812297df9af6');\n",
              "          const dataTable =\n",
              "            await google.colab.kernel.invokeFunction('convertToInteractive',\n",
              "                                                     [key], {});\n",
              "          if (!dataTable) return;\n",
              "\n",
              "          const docLinkHtml = 'Like what you see? Visit the ' +\n",
              "            '<a target=\"_blank\" href=https://colab.research.google.com/notebooks/data_table.ipynb>data table notebook</a>'\n",
              "            + ' to learn more about interactive tables.';\n",
              "          element.innerHTML = '';\n",
              "          dataTable['output_type'] = 'display_data';\n",
              "          await google.colab.output.renderOutput(dataTable, element);\n",
              "          const docLink = document.createElement('div');\n",
              "          docLink.innerHTML = docLinkHtml;\n",
              "          element.appendChild(docLink);\n",
              "        }\n",
              "      </script>\n",
              "    </div>\n",
              "  </div>\n",
              "  "
            ]
          },
          "metadata": {},
          "execution_count": 14
        }
      ],
      "source": [
        "df.head(10)"
      ]
    },
    {
      "cell_type": "code",
      "execution_count": null,
      "metadata": {
        "id": "Tg5JNTVmfbu2",
        "colab": {
          "base_uri": "https://localhost:8080/"
        },
        "outputId": "8329aebb-8cca-4b80-b57a-7d3300b82cdf"
      },
      "outputs": [
        {
          "output_type": "execute_result",
          "data": {
            "text/plain": [
              "66"
            ]
          },
          "metadata": {},
          "execution_count": 15
        }
      ],
      "source": [
        "# Count number of languages\n",
        "df['Language'].nunique()\n"
      ]
    },
    {
      "cell_type": "code",
      "execution_count": null,
      "metadata": {
        "id": "bOeDJMVNdYtR",
        "colab": {
          "base_uri": "https://localhost:8080/"
        },
        "outputId": "4782efdf-6274-48da-f345-e040a1d1d4f9"
      },
      "outputs": [
        {
          "output_type": "execute_result",
          "data": {
            "text/plain": [
              "array(['Afrikaans', 'Albanian', 'Amharic', 'Arabic', 'Armenian',\n",
              "       'Azerbaijan', 'Bengali', 'Bosnian', 'Catalan',\n",
              "       'Chinese (Simplified)', 'Chinese (Traditional)', 'Croatian',\n",
              "       'Welsh', 'Czech', 'German', 'Danish', 'English', 'Spanish',\n",
              "       'Spanish (South America)', 'Finnish', 'French', 'Georgian',\n",
              "       'Galician', 'Greek', 'Hebrew', 'Hindi', 'Hungarian', 'Icelandic',\n",
              "       'Indonesian', 'Italian', 'Japanese', 'Khmer', 'Kannada', 'Korean',\n",
              "       'Kazakh', 'Lithuanian', 'Latvian', 'Macedonian', 'Malayalam',\n",
              "       'Mongolian', 'Malay', 'Nepali', 'Dutch', 'Norwegian (Bokmal)',\n",
              "       'Punjabi', 'Farsi', 'Polish', 'Portuguese (Brazil)',\n",
              "       'Portuguese (EU)', 'Romanian', 'Russian', 'Serbian', 'Sinhalese',\n",
              "       'Slovak', 'Slovenian', 'Swahili', 'Swedish', 'Tamil', 'Telugu',\n",
              "       'Tagalog', 'Thai', 'Turkish', 'Ukranian', 'Urdu', 'Uzbek',\n",
              "       'Vietnamese'], dtype=object)"
            ]
          },
          "metadata": {},
          "execution_count": 16
        }
      ],
      "source": [
        "# Visualize the languages\n",
        "languages = df['Language'].unique()\n",
        "languages"
      ]
    },
    {
      "cell_type": "code",
      "execution_count": null,
      "metadata": {
        "id": "AkEFj2boP91a",
        "colab": {
          "base_uri": "https://localhost:8080/",
          "height": 424
        },
        "outputId": "eb86403d-cb6b-42be-d699-82674ae8f8ac"
      },
      "outputs": [
        {
          "output_type": "execute_result",
          "data": {
            "text/plain": [
              "                                                      Text\n",
              "0                        He wasn't home alone, apparently.\n",
              "1        The St. Louis plant had to close. It would die...\n",
              "2        WSU's plans quickly became a hot topic on loca...\n",
              "3        The Alaimo Group of Mount Holly was up for a c...\n",
              "4        And when it's often difficult to predict a law...\n",
              "...                                                    ...\n",
              "1010237  Serve a taste of spring: Chop fresh vegetables...\n",
              "1010238  The complaint alleges that Kuvan Adil Piromari...\n",
              "1010239  But I'm in the mood. After six or more months ...\n",
              "1010240  That starts this Sunday at Chivas. The Goats a...\n",
              "1010241  The only outwardly religious adornment was a b...\n",
              "\n",
              "[1010242 rows x 1 columns]"
            ],
            "text/html": [
              "\n",
              "  <div id=\"df-effa8724-d188-477b-aee0-a5c5f30a72cc\">\n",
              "    <div class=\"colab-df-container\">\n",
              "      <div>\n",
              "<style scoped>\n",
              "    .dataframe tbody tr th:only-of-type {\n",
              "        vertical-align: middle;\n",
              "    }\n",
              "\n",
              "    .dataframe tbody tr th {\n",
              "        vertical-align: top;\n",
              "    }\n",
              "\n",
              "    .dataframe thead th {\n",
              "        text-align: right;\n",
              "    }\n",
              "</style>\n",
              "<table border=\"1\" class=\"dataframe\">\n",
              "  <thead>\n",
              "    <tr style=\"text-align: right;\">\n",
              "      <th></th>\n",
              "      <th>Text</th>\n",
              "    </tr>\n",
              "  </thead>\n",
              "  <tbody>\n",
              "    <tr>\n",
              "      <th>0</th>\n",
              "      <td>He wasn't home alone, apparently.</td>\n",
              "    </tr>\n",
              "    <tr>\n",
              "      <th>1</th>\n",
              "      <td>The St. Louis plant had to close. It would die...</td>\n",
              "    </tr>\n",
              "    <tr>\n",
              "      <th>2</th>\n",
              "      <td>WSU's plans quickly became a hot topic on loca...</td>\n",
              "    </tr>\n",
              "    <tr>\n",
              "      <th>3</th>\n",
              "      <td>The Alaimo Group of Mount Holly was up for a c...</td>\n",
              "    </tr>\n",
              "    <tr>\n",
              "      <th>4</th>\n",
              "      <td>And when it's often difficult to predict a law...</td>\n",
              "    </tr>\n",
              "    <tr>\n",
              "      <th>...</th>\n",
              "      <td>...</td>\n",
              "    </tr>\n",
              "    <tr>\n",
              "      <th>1010237</th>\n",
              "      <td>Serve a taste of spring: Chop fresh vegetables...</td>\n",
              "    </tr>\n",
              "    <tr>\n",
              "      <th>1010238</th>\n",
              "      <td>The complaint alleges that Kuvan Adil Piromari...</td>\n",
              "    </tr>\n",
              "    <tr>\n",
              "      <th>1010239</th>\n",
              "      <td>But I'm in the mood. After six or more months ...</td>\n",
              "    </tr>\n",
              "    <tr>\n",
              "      <th>1010240</th>\n",
              "      <td>That starts this Sunday at Chivas. The Goats a...</td>\n",
              "    </tr>\n",
              "    <tr>\n",
              "      <th>1010241</th>\n",
              "      <td>The only outwardly religious adornment was a b...</td>\n",
              "    </tr>\n",
              "  </tbody>\n",
              "</table>\n",
              "<p>1010242 rows × 1 columns</p>\n",
              "</div>\n",
              "      <button class=\"colab-df-convert\" onclick=\"convertToInteractive('df-effa8724-d188-477b-aee0-a5c5f30a72cc')\"\n",
              "              title=\"Convert this dataframe to an interactive table.\"\n",
              "              style=\"display:none;\">\n",
              "        \n",
              "  <svg xmlns=\"http://www.w3.org/2000/svg\" height=\"24px\"viewBox=\"0 0 24 24\"\n",
              "       width=\"24px\">\n",
              "    <path d=\"M0 0h24v24H0V0z\" fill=\"none\"/>\n",
              "    <path d=\"M18.56 5.44l.94 2.06.94-2.06 2.06-.94-2.06-.94-.94-2.06-.94 2.06-2.06.94zm-11 1L8.5 8.5l.94-2.06 2.06-.94-2.06-.94L8.5 2.5l-.94 2.06-2.06.94zm10 10l.94 2.06.94-2.06 2.06-.94-2.06-.94-.94-2.06-.94 2.06-2.06.94z\"/><path d=\"M17.41 7.96l-1.37-1.37c-.4-.4-.92-.59-1.43-.59-.52 0-1.04.2-1.43.59L10.3 9.45l-7.72 7.72c-.78.78-.78 2.05 0 2.83L4 21.41c.39.39.9.59 1.41.59.51 0 1.02-.2 1.41-.59l7.78-7.78 2.81-2.81c.8-.78.8-2.07 0-2.86zM5.41 20L4 18.59l7.72-7.72 1.47 1.35L5.41 20z\"/>\n",
              "  </svg>\n",
              "      </button>\n",
              "      \n",
              "  <style>\n",
              "    .colab-df-container {\n",
              "      display:flex;\n",
              "      flex-wrap:wrap;\n",
              "      gap: 12px;\n",
              "    }\n",
              "\n",
              "    .colab-df-convert {\n",
              "      background-color: #E8F0FE;\n",
              "      border: none;\n",
              "      border-radius: 50%;\n",
              "      cursor: pointer;\n",
              "      display: none;\n",
              "      fill: #1967D2;\n",
              "      height: 32px;\n",
              "      padding: 0 0 0 0;\n",
              "      width: 32px;\n",
              "    }\n",
              "\n",
              "    .colab-df-convert:hover {\n",
              "      background-color: #E2EBFA;\n",
              "      box-shadow: 0px 1px 2px rgba(60, 64, 67, 0.3), 0px 1px 3px 1px rgba(60, 64, 67, 0.15);\n",
              "      fill: #174EA6;\n",
              "    }\n",
              "\n",
              "    [theme=dark] .colab-df-convert {\n",
              "      background-color: #3B4455;\n",
              "      fill: #D2E3FC;\n",
              "    }\n",
              "\n",
              "    [theme=dark] .colab-df-convert:hover {\n",
              "      background-color: #434B5C;\n",
              "      box-shadow: 0px 1px 3px 1px rgba(0, 0, 0, 0.15);\n",
              "      filter: drop-shadow(0px 1px 2px rgba(0, 0, 0, 0.3));\n",
              "      fill: #FFFFFF;\n",
              "    }\n",
              "  </style>\n",
              "\n",
              "      <script>\n",
              "        const buttonEl =\n",
              "          document.querySelector('#df-effa8724-d188-477b-aee0-a5c5f30a72cc button.colab-df-convert');\n",
              "        buttonEl.style.display =\n",
              "          google.colab.kernel.accessAllowed ? 'block' : 'none';\n",
              "\n",
              "        async function convertToInteractive(key) {\n",
              "          const element = document.querySelector('#df-effa8724-d188-477b-aee0-a5c5f30a72cc');\n",
              "          const dataTable =\n",
              "            await google.colab.kernel.invokeFunction('convertToInteractive',\n",
              "                                                     [key], {});\n",
              "          if (!dataTable) return;\n",
              "\n",
              "          const docLinkHtml = 'Like what you see? Visit the ' +\n",
              "            '<a target=\"_blank\" href=https://colab.research.google.com/notebooks/data_table.ipynb>data table notebook</a>'\n",
              "            + ' to learn more about interactive tables.';\n",
              "          element.innerHTML = '';\n",
              "          dataTable['output_type'] = 'display_data';\n",
              "          await google.colab.output.renderOutput(dataTable, element);\n",
              "          const docLink = document.createElement('div');\n",
              "          docLink.innerHTML = docLinkHtml;\n",
              "          element.appendChild(docLink);\n",
              "        }\n",
              "      </script>\n",
              "    </div>\n",
              "  </div>\n",
              "  "
            ]
          },
          "metadata": {},
          "execution_count": 17
        }
      ],
      "source": [
        "# Filter dataset for English and remove unnecessary columns\n",
        "dataset = df[(df.Language == 'English')]\n",
        "dataset = dataset.drop(columns = [\"Language\", \"Source\", \"Date\"])\n",
        "dataset.reset_index(drop=True, inplace=True)\n",
        "dataset"
      ]
    },
    {
      "cell_type": "code",
      "execution_count": null,
      "metadata": {
        "id": "Na6haR9PTSXB"
      },
      "outputs": [],
      "source": [
        "# Save dataset to csv\n",
        "dataset.to_csv('dataset.csv')"
      ]
    },
    {
      "cell_type": "markdown",
      "source": [
        "## Clear memory"
      ],
      "metadata": {
        "id": "NtUw-ZIJ1B2B"
      }
    },
    {
      "cell_type": "code",
      "source": [
        "del df, languages, dataset"
      ],
      "metadata": {
        "id": "4dpUAuEq0_1h"
      },
      "execution_count": null,
      "outputs": []
    },
    {
      "cell_type": "code",
      "source": [
        "!rm -rf \"old-newspaper.tsv\"\n",
        "!rm -rf \"old-newspapers.zip\""
      ],
      "metadata": {
        "id": "NRLIZElgv6qU"
      },
      "execution_count": null,
      "outputs": []
    },
    {
      "cell_type": "code",
      "source": [
        "gc.collect()"
      ],
      "metadata": {
        "colab": {
          "base_uri": "https://localhost:8080/"
        },
        "id": "nrAgQbUgv1G5",
        "outputId": "59f0dca0-63c8-4a36-bf92-b6a7113477e7"
      },
      "execution_count": null,
      "outputs": [
        {
          "output_type": "execute_result",
          "data": {
            "text/plain": [
              "66"
            ]
          },
          "metadata": {},
          "execution_count": 21
        }
      ]
    },
    {
      "cell_type": "markdown",
      "metadata": {
        "id": "6qFLRDQsiF0t"
      },
      "source": [
        "# PRE-PROCESSING"
      ]
    },
    {
      "cell_type": "markdown",
      "source": [
        "`If you are not using the pro version of Google Colab, the session might crush for this part. Session will automatically reconnect. Then, start directly reading the file \"dataset.csv\" in the next section.`\n",
        "\n",
        "`NOTICE: You may need to recall the libraries.`"
      ],
      "metadata": {
        "id": "HdrN2uUAYjz_"
      }
    },
    {
      "cell_type": "markdown",
      "metadata": {
        "id": "ctshc0ecj9C0"
      },
      "source": [
        "## Replace special characters and expand contractions"
      ]
    },
    {
      "cell_type": "code",
      "execution_count": null,
      "metadata": {
        "id": "ExOkVRdygH7d"
      },
      "outputs": [],
      "source": [
        "# Read dataset\n",
        "dataset = pd.read_csv('dataset.csv')"
      ]
    },
    {
      "cell_type": "code",
      "execution_count": null,
      "metadata": {
        "id": "gbzyvuaHeS3b"
      },
      "outputs": [],
      "source": [
        "# Write the dataset as a list\n",
        "baskets = []\n",
        "\n",
        "for i in range(dataset.shape[0]):\n",
        "  baskets.append(str(dataset.Text[i]))"
      ]
    },
    {
      "cell_type": "code",
      "execution_count": null,
      "metadata": {
        "id": "VEIzxVG9u9Xh"
      },
      "outputs": [],
      "source": [
        "# Replace special characters and expand contractions\n",
        "baskets_ext = []\n",
        "\n",
        "for sentence in baskets:\n",
        "  sentence = sentence.replace(\"\\'s\", \"\")\n",
        "  sentence = sentence.replace(\"\\'\", \"\")\n",
        "  sentence = sentence.replace(\"/'\", \"\")\n",
        "  sentence = sentence.replace(\"/\", \" \")\n",
        "  sentence = sentence.replace(\"-\", \" \")\n",
        "  sentence = sentence.replace(\"ø\", \"\")\n",
        "  baskets_ext.append(contractions.fix(sentence))"
      ]
    },
    {
      "cell_type": "code",
      "execution_count": null,
      "metadata": {
        "colab": {
          "base_uri": "https://localhost:8080/"
        },
        "id": "XTyF0-r07Bbg",
        "outputId": "b3bb6c44-5d79-4fc0-8d88-28800651c7cf"
      },
      "outputs": [
        {
          "output_type": "stream",
          "name": "stdout",
          "text": [
            "['The St. Louis plant had to close. It would die of old age. Workers had been making cars there since the onset of mass automotive production in the 1920s.', 'WSU plans quickly became a hot topic on local online sites. Though most people applauded plans for the new biomedical center, many deplored the potential loss of the building.', 'The Alaimo Group of Mount Holly was up for a contract last fall to evaluate and suggest improvements to Trenton Water Works. But campaign finance records released this week show the two employees donated a total of $4,500 to the political action committee (PAC) Partners for Progress in early June. Partners for Progress reported it gave more than $10,000 in both direct and in kind contributions to Mayor Tony Mack in the two weeks leading up to his victory in the mayoral runoff election June 15.', 'And when it often difficult to predict a law impact, legislators should think twice before carrying any bill. Is it absolutely necessary? Is it an issue serious enough to merit their attention? Will it definitely not make the situation worse?', 'There was a certain amount of scoffing going around a few years ago when the NFL decided to move the draft from the weekend to prime time    eventually splitting off the first round to a separate day.', '14915 Charlevoix, Detroit', '\"It is just another in a long line of failed attempts to subsidize Atlantic City,\" said Americans for Prosperity New Jersey Director Steve Lonegan, a conservative who lost to Christie in the 2009 GOP primary. \"The Revel Casino hit the jackpot here at government expense.\"', 'But time and again in the report, Sullivan called on CPS to correct problems to improve employee accountability, saying, for example, that measures to keep employees from submitting fraudulent invoices or to block employees from accessing inappropriate websites were not in place.', 'I was just trying to hit it hard someplace, said Rizzo, who hit the pitch to the opposite field in left center. I Am just up there trying to make good contact.']\n"
          ]
        }
      ],
      "source": [
        "print(baskets_ext[1:10])"
      ]
    },
    {
      "cell_type": "code",
      "source": [
        "del dataset, baskets\n",
        "gc.collect()"
      ],
      "metadata": {
        "colab": {
          "base_uri": "https://localhost:8080/"
        },
        "id": "bhYw1BAC4afq",
        "outputId": "0fb937d6-9f0e-4651-c72e-44b139d0a287"
      },
      "execution_count": null,
      "outputs": [
        {
          "output_type": "execute_result",
          "data": {
            "text/plain": [
              "88"
            ]
          },
          "metadata": {},
          "execution_count": 13
        }
      ]
    },
    {
      "cell_type": "markdown",
      "metadata": {
        "id": "RM39RaJEkK_j"
      },
      "source": [
        "## Split sentences"
      ]
    },
    {
      "cell_type": "code",
      "execution_count": null,
      "metadata": {
        "id": "W3IPw2f-eht3"
      },
      "outputs": [],
      "source": [
        "# Split sentences and create a list of lists\n",
        "itemset_1 = []\n",
        "\n",
        "for sentence in baskets_ext:\n",
        "  itemset_1.append(sentence.split(' '))"
      ]
    },
    {
      "cell_type": "code",
      "source": [
        "print(itemset_1[:10])"
      ],
      "metadata": {
        "id": "LHz0EN5dC8Vr",
        "colab": {
          "base_uri": "https://localhost:8080/"
        },
        "outputId": "31717713-bdb8-4b80-ae9d-a219277c00b9"
      },
      "execution_count": null,
      "outputs": [
        {
          "output_type": "stream",
          "name": "stdout",
          "text": [
            "[['He', 'was', 'not', 'home', 'alone,', 'apparently.'], ['The', 'St.', 'Louis', 'plant', 'had', 'to', 'close.', 'It', 'would', 'die', 'of', 'old', 'age.', 'Workers', 'had', 'been', 'making', 'cars', 'there', 'since', 'the', 'onset', 'of', 'mass', 'automotive', 'production', 'in', 'the', '1920s.'], ['WSU', 'plans', 'quickly', 'became', 'a', 'hot', 'topic', 'on', 'local', 'online', 'sites.', 'Though', 'most', 'people', 'applauded', 'plans', 'for', 'the', 'new', 'biomedical', 'center,', 'many', 'deplored', 'the', 'potential', 'loss', 'of', 'the', 'building.'], ['The', 'Alaimo', 'Group', 'of', 'Mount', 'Holly', 'was', 'up', 'for', 'a', 'contract', 'last', 'fall', 'to', 'evaluate', 'and', 'suggest', 'improvements', 'to', 'Trenton', 'Water', 'Works.', 'But', 'campaign', 'finance', 'records', 'released', 'this', 'week', 'show', 'the', 'two', 'employees', 'donated', 'a', 'total', 'of', '$4,500', 'to', 'the', 'political', 'action', 'committee', '(PAC)', 'Partners', 'for', 'Progress', 'in', 'early', 'June.', 'Partners', 'for', 'Progress', 'reported', 'it', 'gave', 'more', 'than', '$10,000', 'in', 'both', 'direct', 'and', 'in', 'kind', 'contributions', 'to', 'Mayor', 'Tony', 'Mack', 'in', 'the', 'two', 'weeks', 'leading', 'up', 'to', 'his', 'victory', 'in', 'the', 'mayoral', 'runoff', 'election', 'June', '15.'], ['And', 'when', 'it', 'often', 'difficult', 'to', 'predict', 'a', 'law', 'impact,', 'legislators', 'should', 'think', 'twice', 'before', 'carrying', 'any', 'bill.', 'Is', 'it', 'absolutely', 'necessary?', 'Is', 'it', 'an', 'issue', 'serious', 'enough', 'to', 'merit', 'their', 'attention?', 'Will', 'it', 'definitely', 'not', 'make', 'the', 'situation', 'worse?'], ['There', 'was', 'a', 'certain', 'amount', 'of', 'scoffing', 'going', 'around', 'a', 'few', 'years', 'ago', 'when', 'the', 'NFL', 'decided', 'to', 'move', 'the', 'draft', 'from', 'the', 'weekend', 'to', 'prime', 'time', '', '', '', 'eventually', 'splitting', 'off', 'the', 'first', 'round', 'to', 'a', 'separate', 'day.'], ['14915', 'Charlevoix,', 'Detroit'], ['\"It', 'is', 'just', 'another', 'in', 'a', 'long', 'line', 'of', 'failed', 'attempts', 'to', 'subsidize', 'Atlantic', 'City,\"', 'said', 'Americans', 'for', 'Prosperity', 'New', 'Jersey', 'Director', 'Steve', 'Lonegan,', 'a', 'conservative', 'who', 'lost', 'to', 'Christie', 'in', 'the', '2009', 'GOP', 'primary.', '\"The', 'Revel', 'Casino', 'hit', 'the', 'jackpot', 'here', 'at', 'government', 'expense.\"'], ['But', 'time', 'and', 'again', 'in', 'the', 'report,', 'Sullivan', 'called', 'on', 'CPS', 'to', 'correct', 'problems', 'to', 'improve', 'employee', 'accountability,', 'saying,', 'for', 'example,', 'that', 'measures', 'to', 'keep', 'employees', 'from', 'submitting', 'fraudulent', 'invoices', 'or', 'to', 'block', 'employees', 'from', 'accessing', 'inappropriate', 'websites', 'were', 'not', 'in', 'place.'], ['I', 'was', 'just', 'trying', 'to', 'hit', 'it', 'hard', 'someplace,', 'said', 'Rizzo,', 'who', 'hit', 'the', 'pitch', 'to', 'the', 'opposite', 'field', 'in', 'left', 'center.', 'I', 'Am', 'just', 'up', 'there', 'trying', 'to', 'make', 'good', 'contact.']]\n"
          ]
        }
      ]
    },
    {
      "cell_type": "code",
      "source": [
        "del baskets_ext\n",
        "gc.collect()"
      ],
      "metadata": {
        "colab": {
          "base_uri": "https://localhost:8080/"
        },
        "id": "qznvDp0t4qA8",
        "outputId": "fd81cc98-7aac-457a-fea2-64235fe5fa45"
      },
      "execution_count": null,
      "outputs": [
        {
          "output_type": "execute_result",
          "data": {
            "text/plain": [
              "44"
            ]
          },
          "metadata": {},
          "execution_count": 16
        }
      ]
    },
    {
      "cell_type": "markdown",
      "metadata": {
        "id": "KKUNJ56YkOcB"
      },
      "source": [
        "## Remove punctuation, blank spaces and capitalization"
      ]
    },
    {
      "cell_type": "code",
      "execution_count": null,
      "metadata": {
        "id": "oU8p5Rbz5KNb",
        "colab": {
          "base_uri": "https://localhost:8080/"
        },
        "outputId": "2863cb97-3ebd-4f3b-ad41-a623aa8bff7d"
      },
      "outputs": [
        {
          "output_type": "execute_result",
          "data": {
            "text/plain": [
              "'!\"#$%&()*+,-./:;<=>?@[\\\\]^_`{|}~'"
            ],
            "application/vnd.google.colaboratory.intrinsic+json": {
              "type": "string"
            }
          },
          "metadata": {},
          "execution_count": 17
        }
      ],
      "source": [
        "punctuation = string.punctuation\n",
        "punctuation = punctuation.replace(\"'\", \"\")\n",
        "punctuation"
      ]
    },
    {
      "cell_type": "code",
      "execution_count": null,
      "metadata": {
        "id": "mBzuiYpDv4kL"
      },
      "outputs": [],
      "source": [
        "# Remove punctuation, English possessive, spaces and capitalization\n",
        "itemset_2 = []\n",
        "for idx, sentence in enumerate(itemset_1):\n",
        "  itemset_2.append([])\n",
        "  for word in sentence:\n",
        "    new_word = word.translate(str.maketrans('', '', punctuation))\n",
        "    new_word = new_word.replace(\"’s\", \"\")\n",
        "    new_word = new_word.replace(\"–\",\"\")\n",
        "    new_word = new_word.strip()\n",
        "    new_word = new_word.lower()\n",
        "    if new_word != \"\":\n",
        "          itemset_2[idx].append(new_word)"
      ]
    },
    {
      "cell_type": "code",
      "source": [
        "print(itemset_2[:10])"
      ],
      "metadata": {
        "id": "8Q3926ldEDyc",
        "colab": {
          "base_uri": "https://localhost:8080/"
        },
        "outputId": "a79cd702-e2cf-41d0-fbd0-c5aecc105cc5"
      },
      "execution_count": null,
      "outputs": [
        {
          "output_type": "stream",
          "name": "stdout",
          "text": [
            "[['he', 'was', 'not', 'home', 'alone', 'apparently'], ['the', 'st', 'louis', 'plant', 'had', 'to', 'close', 'it', 'would', 'die', 'of', 'old', 'age', 'workers', 'had', 'been', 'making', 'cars', 'there', 'since', 'the', 'onset', 'of', 'mass', 'automotive', 'production', 'in', 'the', '1920s'], ['wsu', 'plans', 'quickly', 'became', 'a', 'hot', 'topic', 'on', 'local', 'online', 'sites', 'though', 'most', 'people', 'applauded', 'plans', 'for', 'the', 'new', 'biomedical', 'center', 'many', 'deplored', 'the', 'potential', 'loss', 'of', 'the', 'building'], ['the', 'alaimo', 'group', 'of', 'mount', 'holly', 'was', 'up', 'for', 'a', 'contract', 'last', 'fall', 'to', 'evaluate', 'and', 'suggest', 'improvements', 'to', 'trenton', 'water', 'works', 'but', 'campaign', 'finance', 'records', 'released', 'this', 'week', 'show', 'the', 'two', 'employees', 'donated', 'a', 'total', 'of', '4500', 'to', 'the', 'political', 'action', 'committee', 'pac', 'partners', 'for', 'progress', 'in', 'early', 'june', 'partners', 'for', 'progress', 'reported', 'it', 'gave', 'more', 'than', '10000', 'in', 'both', 'direct', 'and', 'in', 'kind', 'contributions', 'to', 'mayor', 'tony', 'mack', 'in', 'the', 'two', 'weeks', 'leading', 'up', 'to', 'his', 'victory', 'in', 'the', 'mayoral', 'runoff', 'election', 'june', '15'], ['and', 'when', 'it', 'often', 'difficult', 'to', 'predict', 'a', 'law', 'impact', 'legislators', 'should', 'think', 'twice', 'before', 'carrying', 'any', 'bill', 'is', 'it', 'absolutely', 'necessary', 'is', 'it', 'an', 'issue', 'serious', 'enough', 'to', 'merit', 'their', 'attention', 'will', 'it', 'definitely', 'not', 'make', 'the', 'situation', 'worse'], ['there', 'was', 'a', 'certain', 'amount', 'of', 'scoffing', 'going', 'around', 'a', 'few', 'years', 'ago', 'when', 'the', 'nfl', 'decided', 'to', 'move', 'the', 'draft', 'from', 'the', 'weekend', 'to', 'prime', 'time', 'eventually', 'splitting', 'off', 'the', 'first', 'round', 'to', 'a', 'separate', 'day'], ['14915', 'charlevoix', 'detroit'], ['it', 'is', 'just', 'another', 'in', 'a', 'long', 'line', 'of', 'failed', 'attempts', 'to', 'subsidize', 'atlantic', 'city', 'said', 'americans', 'for', 'prosperity', 'new', 'jersey', 'director', 'steve', 'lonegan', 'a', 'conservative', 'who', 'lost', 'to', 'christie', 'in', 'the', '2009', 'gop', 'primary', 'the', 'revel', 'casino', 'hit', 'the', 'jackpot', 'here', 'at', 'government', 'expense'], ['but', 'time', 'and', 'again', 'in', 'the', 'report', 'sullivan', 'called', 'on', 'cps', 'to', 'correct', 'problems', 'to', 'improve', 'employee', 'accountability', 'saying', 'for', 'example', 'that', 'measures', 'to', 'keep', 'employees', 'from', 'submitting', 'fraudulent', 'invoices', 'or', 'to', 'block', 'employees', 'from', 'accessing', 'inappropriate', 'websites', 'were', 'not', 'in', 'place'], ['i', 'was', 'just', 'trying', 'to', 'hit', 'it', 'hard', 'someplace', 'said', 'rizzo', 'who', 'hit', 'the', 'pitch', 'to', 'the', 'opposite', 'field', 'in', 'left', 'center', 'i', 'am', 'just', 'up', 'there', 'trying', 'to', 'make', 'good', 'contact']]\n"
          ]
        }
      ]
    },
    {
      "cell_type": "markdown",
      "metadata": {
        "id": "-FBBo0SFkaLw"
      },
      "source": [
        "## Remove digits"
      ]
    },
    {
      "cell_type": "code",
      "execution_count": null,
      "metadata": {
        "id": "ANYlUKVbUi2v"
      },
      "outputs": [],
      "source": [
        "# Remove digits and words containing digits\n",
        "itemset_3 = []\n",
        "for idx, sentence in enumerate(itemset_2):\n",
        "  itemset_3.append([])\n",
        "  for word in sentence:\n",
        "    if any(c.isdigit() for c in word) == False: \n",
        "      itemset_3[idx].append(word)"
      ]
    },
    {
      "cell_type": "code",
      "source": [
        "print(itemset_3[:10])"
      ],
      "metadata": {
        "id": "7u6JzRjTETkI",
        "colab": {
          "base_uri": "https://localhost:8080/"
        },
        "outputId": "075b375a-14f4-48e8-f8c0-a6fc6ff94cea"
      },
      "execution_count": null,
      "outputs": [
        {
          "output_type": "stream",
          "name": "stdout",
          "text": [
            "[['he', 'was', 'not', 'home', 'alone', 'apparently'], ['the', 'st', 'louis', 'plant', 'had', 'to', 'close', 'it', 'would', 'die', 'of', 'old', 'age', 'workers', 'had', 'been', 'making', 'cars', 'there', 'since', 'the', 'onset', 'of', 'mass', 'automotive', 'production', 'in', 'the'], ['wsu', 'plans', 'quickly', 'became', 'a', 'hot', 'topic', 'on', 'local', 'online', 'sites', 'though', 'most', 'people', 'applauded', 'plans', 'for', 'the', 'new', 'biomedical', 'center', 'many', 'deplored', 'the', 'potential', 'loss', 'of', 'the', 'building'], ['the', 'alaimo', 'group', 'of', 'mount', 'holly', 'was', 'up', 'for', 'a', 'contract', 'last', 'fall', 'to', 'evaluate', 'and', 'suggest', 'improvements', 'to', 'trenton', 'water', 'works', 'but', 'campaign', 'finance', 'records', 'released', 'this', 'week', 'show', 'the', 'two', 'employees', 'donated', 'a', 'total', 'of', 'to', 'the', 'political', 'action', 'committee', 'pac', 'partners', 'for', 'progress', 'in', 'early', 'june', 'partners', 'for', 'progress', 'reported', 'it', 'gave', 'more', 'than', 'in', 'both', 'direct', 'and', 'in', 'kind', 'contributions', 'to', 'mayor', 'tony', 'mack', 'in', 'the', 'two', 'weeks', 'leading', 'up', 'to', 'his', 'victory', 'in', 'the', 'mayoral', 'runoff', 'election', 'june'], ['and', 'when', 'it', 'often', 'difficult', 'to', 'predict', 'a', 'law', 'impact', 'legislators', 'should', 'think', 'twice', 'before', 'carrying', 'any', 'bill', 'is', 'it', 'absolutely', 'necessary', 'is', 'it', 'an', 'issue', 'serious', 'enough', 'to', 'merit', 'their', 'attention', 'will', 'it', 'definitely', 'not', 'make', 'the', 'situation', 'worse'], ['there', 'was', 'a', 'certain', 'amount', 'of', 'scoffing', 'going', 'around', 'a', 'few', 'years', 'ago', 'when', 'the', 'nfl', 'decided', 'to', 'move', 'the', 'draft', 'from', 'the', 'weekend', 'to', 'prime', 'time', 'eventually', 'splitting', 'off', 'the', 'first', 'round', 'to', 'a', 'separate', 'day'], ['charlevoix', 'detroit'], ['it', 'is', 'just', 'another', 'in', 'a', 'long', 'line', 'of', 'failed', 'attempts', 'to', 'subsidize', 'atlantic', 'city', 'said', 'americans', 'for', 'prosperity', 'new', 'jersey', 'director', 'steve', 'lonegan', 'a', 'conservative', 'who', 'lost', 'to', 'christie', 'in', 'the', 'gop', 'primary', 'the', 'revel', 'casino', 'hit', 'the', 'jackpot', 'here', 'at', 'government', 'expense'], ['but', 'time', 'and', 'again', 'in', 'the', 'report', 'sullivan', 'called', 'on', 'cps', 'to', 'correct', 'problems', 'to', 'improve', 'employee', 'accountability', 'saying', 'for', 'example', 'that', 'measures', 'to', 'keep', 'employees', 'from', 'submitting', 'fraudulent', 'invoices', 'or', 'to', 'block', 'employees', 'from', 'accessing', 'inappropriate', 'websites', 'were', 'not', 'in', 'place'], ['i', 'was', 'just', 'trying', 'to', 'hit', 'it', 'hard', 'someplace', 'said', 'rizzo', 'who', 'hit', 'the', 'pitch', 'to', 'the', 'opposite', 'field', 'in', 'left', 'center', 'i', 'am', 'just', 'up', 'there', 'trying', 'to', 'make', 'good', 'contact']]\n"
          ]
        }
      ]
    },
    {
      "cell_type": "markdown",
      "metadata": {
        "id": "5xHqL2IJkclc"
      },
      "source": [
        "## Remove stopwords"
      ]
    },
    {
      "cell_type": "code",
      "execution_count": null,
      "metadata": {
        "id": "SZq4opo_bo-V"
      },
      "outputs": [],
      "source": [
        "# Remove the majority of stopwords\n",
        "stop_words = set(stopwords.words('english'))\n",
        "new_stopwords = ['i', 'us']\n",
        "new_stopwords_list = stop_words.union(new_stopwords)\n",
        "\n",
        "itemset_4 = []\n",
        "for idx, sentence in enumerate(itemset_3):\n",
        "  itemset_4.append([])\n",
        "  for word in sentence:\n",
        "    if not word in stop_words: \n",
        "      itemset_4[idx].append(word)"
      ]
    },
    {
      "cell_type": "code",
      "source": [
        "print(itemset_4[:10])"
      ],
      "metadata": {
        "id": "RXijKc_9EnXw",
        "colab": {
          "base_uri": "https://localhost:8080/"
        },
        "outputId": "dc9eefab-f678-4279-f316-33fe4540ea04"
      },
      "execution_count": null,
      "outputs": [
        {
          "output_type": "stream",
          "name": "stdout",
          "text": [
            "[['home', 'alone', 'apparently'], ['st', 'louis', 'plant', 'close', 'would', 'die', 'old', 'age', 'workers', 'making', 'cars', 'since', 'onset', 'mass', 'automotive', 'production'], ['wsu', 'plans', 'quickly', 'became', 'hot', 'topic', 'local', 'online', 'sites', 'though', 'people', 'applauded', 'plans', 'new', 'biomedical', 'center', 'many', 'deplored', 'potential', 'loss', 'building'], ['alaimo', 'group', 'mount', 'holly', 'contract', 'last', 'fall', 'evaluate', 'suggest', 'improvements', 'trenton', 'water', 'works', 'campaign', 'finance', 'records', 'released', 'week', 'show', 'two', 'employees', 'donated', 'total', 'political', 'action', 'committee', 'pac', 'partners', 'progress', 'early', 'june', 'partners', 'progress', 'reported', 'gave', 'direct', 'kind', 'contributions', 'mayor', 'tony', 'mack', 'two', 'weeks', 'leading', 'victory', 'mayoral', 'runoff', 'election', 'june'], ['often', 'difficult', 'predict', 'law', 'impact', 'legislators', 'think', 'twice', 'carrying', 'bill', 'absolutely', 'necessary', 'issue', 'serious', 'enough', 'merit', 'attention', 'definitely', 'make', 'situation', 'worse'], ['certain', 'amount', 'scoffing', 'going', 'around', 'years', 'ago', 'nfl', 'decided', 'move', 'draft', 'weekend', 'prime', 'time', 'eventually', 'splitting', 'first', 'round', 'separate', 'day'], ['charlevoix', 'detroit'], ['another', 'long', 'line', 'failed', 'attempts', 'subsidize', 'atlantic', 'city', 'said', 'americans', 'prosperity', 'new', 'jersey', 'director', 'steve', 'lonegan', 'conservative', 'lost', 'christie', 'gop', 'primary', 'revel', 'casino', 'hit', 'jackpot', 'government', 'expense'], ['time', 'report', 'sullivan', 'called', 'cps', 'correct', 'problems', 'improve', 'employee', 'accountability', 'saying', 'example', 'measures', 'keep', 'employees', 'submitting', 'fraudulent', 'invoices', 'block', 'employees', 'accessing', 'inappropriate', 'websites', 'place'], ['trying', 'hit', 'hard', 'someplace', 'said', 'rizzo', 'hit', 'pitch', 'opposite', 'field', 'left', 'center', 'trying', 'make', 'good', 'contact']]\n"
          ]
        }
      ]
    },
    {
      "cell_type": "markdown",
      "metadata": {
        "id": "D08Iym5kkp9M"
      },
      "source": [
        "## Lemmatize words"
      ]
    },
    {
      "cell_type": "code",
      "execution_count": null,
      "metadata": {
        "id": "KgfTAwiV2tdM"
      },
      "outputs": [],
      "source": [
        "# Lemmatize words \n",
        "# Lemmatization is the process of grouping together the different inflected forms of a word so they can be analyzed as a single item.\n",
        "# Lemmatization is preferred over Stemming because lemmatization does morphological analysis of the words\n",
        "lemmatizer = WordNetLemmatizer()\n",
        "itemset_5 = []\n",
        "for idx, sentence in enumerate(itemset_4):\n",
        "  itemset_5.append([])\n",
        "  for word in sentence:\n",
        "    rootWord = lemmatizer.lemmatize(word)\n",
        "    itemset_5[idx].append(rootWord)"
      ]
    },
    {
      "cell_type": "code",
      "source": [
        "print(itemset_5[:10])"
      ],
      "metadata": {
        "id": "hHYt3yaKFXoL"
      },
      "execution_count": null,
      "outputs": []
    },
    {
      "cell_type": "markdown",
      "source": [
        "## Remove duplicates"
      ],
      "metadata": {
        "id": "QPjB2vnN0TUg"
      }
    },
    {
      "cell_type": "code",
      "source": [
        "from collections import OrderedDict\n",
        "itemset_6 = []\n",
        "for sentence in enumerate(itemset_5):\n",
        "  new_sentence = list(OrderedDict.fromkeys(sentence[1]))\n",
        "  itemset_6.append(new_sentence)"
      ],
      "metadata": {
        "id": "jLsUadUp9k6z"
      },
      "execution_count": null,
      "outputs": []
    },
    {
      "cell_type": "code",
      "source": [
        "print(itemset_6[:10])"
      ],
      "metadata": {
        "id": "5AsmMb9gFdLg"
      },
      "execution_count": null,
      "outputs": []
    },
    {
      "cell_type": "markdown",
      "source": [
        "## Save"
      ],
      "metadata": {
        "id": "HX2WPJc_0X_K"
      }
    },
    {
      "cell_type": "code",
      "source": [
        "# Save pre-processed words to csv with index\n",
        "with open('pre_processed.csv', 'w', newline='') as myfile:\n",
        "     wr = csv.writer(myfile)\n",
        "     wr.writerow(itemset_6)"
      ],
      "metadata": {
        "id": "4r0nQ-cnF1uw"
      },
      "execution_count": null,
      "outputs": []
    },
    {
      "cell_type": "code",
      "source": [
        "del itemset_1, itemset_2, itemset_3, itemset_4, itemset_5, itemset_6\n",
        "gc.collect()"
      ],
      "metadata": {
        "colab": {
          "base_uri": "https://localhost:8080/"
        },
        "id": "5Wu3XBTz5KJE",
        "outputId": "733395bd-432f-4e78-cc51-42662e321260"
      },
      "execution_count": null,
      "outputs": [
        {
          "output_type": "execute_result",
          "data": {
            "text/plain": [
              "44"
            ]
          },
          "metadata": {},
          "execution_count": 29
        }
      ]
    },
    {
      "cell_type": "markdown",
      "source": [
        "## Subsampling"
      ],
      "metadata": {
        "id": "nPIAK0Tu3OqS"
      }
    },
    {
      "cell_type": "code",
      "source": [
        "with open('pre_processed.csv', 'r') as read_obj:\n",
        "    # Return a reader object which will\n",
        "    # iterate over lines in the given csvfile\n",
        "    csv_reader = csv.reader(read_obj)\n",
        "  \n",
        "    # convert string to list\n",
        "    dataset = list(csv_reader)"
      ],
      "metadata": {
        "id": "VFGss23McYc4"
      },
      "execution_count": null,
      "outputs": []
    },
    {
      "cell_type": "code",
      "source": [
        "dataset = pd.DataFrame(dataset)"
      ],
      "metadata": {
        "id": "8uE6hCWAU5II"
      },
      "execution_count": null,
      "outputs": []
    },
    {
      "cell_type": "code",
      "source": [
        "dataset = dataset.T"
      ],
      "metadata": {
        "id": "98C2ftB-Vq4X"
      },
      "execution_count": null,
      "outputs": []
    },
    {
      "cell_type": "code",
      "source": [
        "dataset.head()"
      ],
      "metadata": {
        "id": "SNha6mFEVetL"
      },
      "execution_count": null,
      "outputs": []
    },
    {
      "cell_type": "code",
      "source": [
        "dataset_sample = dataset.sample(500)"
      ],
      "metadata": {
        "id": "joSBHDPF3UBc"
      },
      "execution_count": null,
      "outputs": []
    },
    {
      "cell_type": "markdown",
      "source": [
        "### Save for Apriori"
      ],
      "metadata": {
        "id": "fM02hZUHF3G3"
      }
    },
    {
      "cell_type": "code",
      "source": [
        "apriori_list = dataset_sample[0].transpose().apply(ast.literal_eval).values.tolist()\n",
        "print(apriori_list)"
      ],
      "metadata": {
        "id": "xIH59jdE0aE2"
      },
      "execution_count": null,
      "outputs": []
    },
    {
      "cell_type": "code",
      "source": [
        "with open(\"apriori.csv\", \"w\", newline=\"\") as f:\n",
        "    writer = csv.writer(f)\n",
        "    writer.writerows(apriori_list)"
      ],
      "metadata": {
        "id": "qtOsUX_k3cZj"
      },
      "execution_count": null,
      "outputs": []
    },
    {
      "cell_type": "markdown",
      "source": [
        "### Save for FP-Growth"
      ],
      "metadata": {
        "id": "YJW64gmvF9Lw"
      }
    },
    {
      "cell_type": "code",
      "source": [
        "dataset.to_csv('fp-growth.csv', index=True, header=False)"
      ],
      "metadata": {
        "id": "6FYWINQPVd06"
      },
      "execution_count": null,
      "outputs": []
    },
    {
      "cell_type": "code",
      "source": [
        "del dataset"
      ],
      "metadata": {
        "id": "GeOl4Vo17o6C"
      },
      "execution_count": null,
      "outputs": []
    },
    {
      "cell_type": "markdown",
      "metadata": {
        "id": "QjwWiYiAktbI"
      },
      "source": [
        "# FREQUENT ITEMSETS WITH SPARK"
      ]
    },
    {
      "cell_type": "markdown",
      "metadata": {
        "id": "hhJkBkCUkyfC"
      },
      "source": [
        "## Setting up pyspark"
      ]
    },
    {
      "cell_type": "code",
      "source": [
        "!pip install pyspark"
      ],
      "metadata": {
        "id": "y8k_7GVpUMhB",
        "colab": {
          "base_uri": "https://localhost:8080/"
        },
        "outputId": "a950128c-46a0-405c-e97c-512369bbd900"
      },
      "execution_count": null,
      "outputs": [
        {
          "output_type": "stream",
          "name": "stdout",
          "text": [
            "Looking in indexes: https://pypi.org/simple, https://us-python.pkg.dev/colab-wheels/public/simple/\n",
            "Collecting pyspark\n",
            "  Downloading pyspark-3.3.1.tar.gz (281.4 MB)\n",
            "\u001b[K     |████████████████████████████████| 281.4 MB 43 kB/s \n",
            "\u001b[?25hCollecting py4j==0.10.9.5\n",
            "  Downloading py4j-0.10.9.5-py2.py3-none-any.whl (199 kB)\n",
            "\u001b[K     |████████████████████████████████| 199 kB 49.9 MB/s \n",
            "\u001b[?25hBuilding wheels for collected packages: pyspark\n",
            "  Building wheel for pyspark (setup.py) ... \u001b[?25l\u001b[?25hdone\n",
            "  Created wheel for pyspark: filename=pyspark-3.3.1-py2.py3-none-any.whl size=281845513 sha256=7582f471c7f934e13d772465e5c666ee911aed99110ff1dc011b59ee0f530d6c\n",
            "  Stored in directory: /root/.cache/pip/wheels/42/59/f5/79a5bf931714dcd201b26025347785f087370a10a3329a899c\n",
            "Successfully built pyspark\n",
            "Installing collected packages: py4j, pyspark\n",
            "Successfully installed py4j-0.10.9.5 pyspark-3.3.1\n"
          ]
        }
      ]
    },
    {
      "cell_type": "code",
      "source": [
        "from pyspark.sql import SparkSession\n",
        "from pyspark.sql.functions import *\n",
        "from pyspark.sql.types import *"
      ],
      "metadata": {
        "id": "bmQMLbGvl-wv"
      },
      "execution_count": null,
      "outputs": []
    },
    {
      "cell_type": "code",
      "source": [
        "from pyspark.rdd import RDD\n",
        "from pyspark.ml.fpm import FPGrowth"
      ],
      "metadata": {
        "id": "Sd4zuEwBmH8V"
      },
      "execution_count": null,
      "outputs": []
    },
    {
      "cell_type": "code",
      "source": [
        "spark = SparkSession.builder.appName(\"Market Basket Analysis\").master(\"local[*]\").getOrCreate()\n",
        "spark.conf.set(\"spark.sql.repl.eagerEval.enabled\", True) # Property used to format output tables better\n",
        "spark"
      ],
      "metadata": {
        "id": "wGC9_wn8Uapr"
      },
      "execution_count": null,
      "outputs": []
    },
    {
      "cell_type": "code",
      "source": [
        "from pyspark import SparkContext\n",
        "sc = SparkContext.getOrCreate()"
      ],
      "metadata": {
        "id": "SuNcwF_Zcr1A"
      },
      "execution_count": null,
      "outputs": []
    },
    {
      "cell_type": "markdown",
      "metadata": {
        "id": "lgEJqLYafoal"
      },
      "source": [
        "## Apriori Algorithm"
      ]
    },
    {
      "cell_type": "markdown",
      "metadata": {
        "id": "gpYp-i8Ik-D0"
      },
      "source": [
        "### Load dataset in spark"
      ]
    },
    {
      "cell_type": "code",
      "source": [
        "lines = sc.textFile(\"apriori.csv\")"
      ],
      "metadata": {
        "id": "TYYv83B3Uxte"
      },
      "execution_count": null,
      "outputs": []
    },
    {
      "cell_type": "code",
      "source": [
        "type(lines) "
      ],
      "metadata": {
        "colab": {
          "base_uri": "https://localhost:8080/"
        },
        "id": "BbblfOacMMAN",
        "outputId": "5cf4618a-b5fa-409f-b0f6-87ec6e7929d9"
      },
      "execution_count": null,
      "outputs": [
        {
          "output_type": "execute_result",
          "data": {
            "text/plain": [
              "pyspark.rdd.RDD"
            ]
          },
          "metadata": {},
          "execution_count": 45
        }
      ]
    },
    {
      "cell_type": "code",
      "source": [
        "print(lines.take(10))"
      ],
      "metadata": {
        "colab": {
          "base_uri": "https://localhost:8080/"
        },
        "id": "6cjWgbFfeo45",
        "outputId": "6911f9d5-8744-4518-a56c-153e0ef5c367"
      },
      "execution_count": null,
      "outputs": [
        {
          "output_type": "stream",
          "name": "stdout",
          "text": [
            "['catcher,mike,napoli,dropped,eighth,lineup,provided,offense,belting,three,run,home,give,ranger,breathing,room', 'man,reservation,girlfriend,neil,labute,acidic,reason,pretty,nonprophet,theater,company,question,love,abba,mamma,mia,fox,theatre', 'whose,life,conform,deeply,held,first,amendment,protected,belief,religious,institution,work,cannot,surprised,let,u,go,publicly,flouting', 'matt,rainey,star,ledgerattorneys,yous,sen,robert,menendez,nj,state,attorney,general,sussex,county,tea,party,argue,justice,whether,mount,effort,recall,senator,arguing,mark,eliastrenton,—,letter,george,washington,appear,trump,text,event,yesterday,supreme,court,hit,history,book,hearing,argument,connected,group', 'proposal,would,second,time,county,tried,pas,bond,issue,purpose', 'everything,dave,store,open,negotiation,put,split,placing,item,consignment,also,sell,merchandise,swap,meet,spend,time,get,clear,picture,business', 'walking,drinking,ok,said,year,old,resident,lower,haight,peep,wearing,yellow,underwear,assured,passer,would,assuredly,giving,show,hour,early', 'interview,star,tribune,rutzick,said,started,selling,ice,cream,candy,downtown,business,hustling,ever,since,love,make,deal', 'deep,enough,season,cannot,say,‘oh,number,skewed,beating,little,guys’', 'boeing,share,rose,afternoon,trading']\n"
          ]
        }
      ]
    },
    {
      "cell_type": "markdown",
      "metadata": {
        "id": "ct5UygO6lVkO"
      },
      "source": [
        "### Phase-1\n"
      ]
    },
    {
      "cell_type": "code",
      "source": [
        "def sumOperator(x,y):\n",
        "    return x+y"
      ],
      "metadata": {
        "id": "V0omqc8lh-LC"
      },
      "execution_count": null,
      "outputs": []
    },
    {
      "cell_type": "code",
      "execution_count": null,
      "metadata": {
        "id": "NjrX9sHRXSef"
      },
      "outputs": [],
      "source": [
        "# Parsing items into RDD\n",
        "lblitems = lines.map(lambda line: line.split(','))"
      ]
    },
    {
      "cell_type": "code",
      "source": [
        "print(lblitems.take(10))"
      ],
      "metadata": {
        "colab": {
          "base_uri": "https://localhost:8080/"
        },
        "id": "mLN3RI3DefUH",
        "outputId": "bea06c52-c874-462f-f10e-140d9d0cd6fc"
      },
      "execution_count": null,
      "outputs": [
        {
          "output_type": "stream",
          "name": "stdout",
          "text": [
            "[['catcher', 'mike', 'napoli', 'dropped', 'eighth', 'lineup', 'provided', 'offense', 'belting', 'three', 'run', 'home', 'give', 'ranger', 'breathing', 'room'], ['man', 'reservation', 'girlfriend', 'neil', 'labute', 'acidic', 'reason', 'pretty', 'nonprophet', 'theater', 'company', 'question', 'love', 'abba', 'mamma', 'mia', 'fox', 'theatre'], ['whose', 'life', 'conform', 'deeply', 'held', 'first', 'amendment', 'protected', 'belief', 'religious', 'institution', 'work', 'cannot', 'surprised', 'let', 'u', 'go', 'publicly', 'flouting'], ['matt', 'rainey', 'star', 'ledgerattorneys', 'yous', 'sen', 'robert', 'menendez', 'nj', 'state', 'attorney', 'general', 'sussex', 'county', 'tea', 'party', 'argue', 'justice', 'whether', 'mount', 'effort', 'recall', 'senator', 'arguing', 'mark', 'eliastrenton', '—', 'letter', 'george', 'washington', 'appear', 'trump', 'text', 'event', 'yesterday', 'supreme', 'court', 'hit', 'history', 'book', 'hearing', 'argument', 'connected', 'group'], ['proposal', 'would', 'second', 'time', 'county', 'tried', 'pas', 'bond', 'issue', 'purpose'], ['everything', 'dave', 'store', 'open', 'negotiation', 'put', 'split', 'placing', 'item', 'consignment', 'also', 'sell', 'merchandise', 'swap', 'meet', 'spend', 'time', 'get', 'clear', 'picture', 'business'], ['walking', 'drinking', 'ok', 'said', 'year', 'old', 'resident', 'lower', 'haight', 'peep', 'wearing', 'yellow', 'underwear', 'assured', 'passer', 'would', 'assuredly', 'giving', 'show', 'hour', 'early'], ['interview', 'star', 'tribune', 'rutzick', 'said', 'started', 'selling', 'ice', 'cream', 'candy', 'downtown', 'business', 'hustling', 'ever', 'since', 'love', 'make', 'deal'], ['deep', 'enough', 'season', 'cannot', 'say', '‘oh', 'number', 'skewed', 'beating', 'little', 'guys’'], ['boeing', 'share', 'rose', 'afternoon', 'trading']]\n"
          ]
        }
      ]
    },
    {
      "cell_type": "code",
      "execution_count": null,
      "metadata": {
        "id": "emH15MdNYOGu"
      },
      "outputs": [],
      "source": [
        "# Split into RDD of single words\n",
        "wlitems = lines.flatMap(lambda line:line.split(','))"
      ]
    },
    {
      "cell_type": "code",
      "execution_count": null,
      "metadata": {
        "colab": {
          "base_uri": "https://localhost:8080/"
        },
        "id": "_S2Lq0slYRw5",
        "outputId": "11770c83-f990-487e-bd5d-753223fa2046"
      },
      "outputs": [
        {
          "output_type": "stream",
          "name": "stdout",
          "text": [
            "['catcher', 'mike', 'napoli', 'dropped', 'eighth', 'lineup', 'provided', 'offense', 'belting', 'three']\n"
          ]
        }
      ],
      "source": [
        "print(wlitems.take(10))"
      ]
    },
    {
      "cell_type": "code",
      "execution_count": null,
      "metadata": {
        "id": "-m26z9I-YeXN"
      },
      "outputs": [],
      "source": [
        "## Calculate support for each item\n",
        "# Unique frequent items in dataset\n",
        "uniqueItems = wlitems.distinct()\n",
        "# Add 1 as Tuple\n",
        "supportRdd = wlitems.map(lambda item: (item , 1))\n",
        "\n",
        "# Sum of values by key\n",
        "supportRdd = supportRdd.reduceByKey(sumOperator)"
      ]
    },
    {
      "cell_type": "code",
      "source": [
        "print(supportRdd.take(10))"
      ],
      "metadata": {
        "colab": {
          "base_uri": "https://localhost:8080/"
        },
        "id": "MkzSyA-FfEUw",
        "outputId": "f0b6179e-afd3-46f1-ab34-5be2cae69d42"
      },
      "execution_count": null,
      "outputs": [
        {
          "output_type": "stream",
          "name": "stdout",
          "text": [
            "[('catcher', 2), ('mike', 4), ('napoli', 1), ('dropped', 2), ('lineup', 1), ('offense', 2), ('three', 19), ('run', 11), ('home', 18), ('give', 4)]\n"
          ]
        }
      ]
    },
    {
      "cell_type": "code",
      "execution_count": null,
      "metadata": {
        "id": "eFHWAtjhY4DV"
      },
      "outputs": [],
      "source": [
        "# First support values\n",
        "supports = supportRdd.map(lambda item: item[1]) # Return only support values"
      ]
    },
    {
      "cell_type": "code",
      "execution_count": null,
      "metadata": {
        "id": "TYxO6GSdSt_A"
      },
      "outputs": [],
      "source": [
        "# Define minimum support value \n",
        "minSupport = 0.01*500\n",
        "\n",
        "# Filter first supportRdd with minimum support \n",
        "supportRdd = supportRdd.filter(lambda item: item[1] >= minSupport )"
      ]
    },
    {
      "cell_type": "code",
      "source": [
        "# Create base RDD with will be updated every iteration\n",
        "baseRdd = supportRdd.map(lambda item: ([item[0]] , item[1]))\n",
        "print('1 . Table has been created...') "
      ],
      "metadata": {
        "id": "ddhgvwQQzMAz",
        "colab": {
          "base_uri": "https://localhost:8080/"
        },
        "outputId": "39495f75-4ab4-4bb6-9b24-3f663a887f5f"
      },
      "execution_count": null,
      "outputs": [
        {
          "output_type": "stream",
          "name": "stdout",
          "text": [
            "1 . Table has been created...\n"
          ]
        }
      ]
    },
    {
      "cell_type": "code",
      "source": [
        "supportRdd = supportRdd.map(lambda item: item[0])\n",
        "supportRddCart = supportRdd"
      ],
      "metadata": {
        "id": "HA7FyOHJfpWH"
      },
      "execution_count": null,
      "outputs": []
    },
    {
      "cell_type": "code",
      "source": [
        "supportRdd.count()"
      ],
      "metadata": {
        "colab": {
          "base_uri": "https://localhost:8080/"
        },
        "id": "3US9_qWoGmFL",
        "outputId": "97a99b3e-3b97-42f8-c886-34a32a2275de"
      },
      "execution_count": null,
      "outputs": [
        {
          "output_type": "execute_result",
          "data": {
            "text/plain": [
              "367"
            ]
          },
          "metadata": {},
          "execution_count": 58
        }
      ]
    },
    {
      "cell_type": "markdown",
      "metadata": {
        "id": "PTwgl08SSuX1"
      },
      "source": [
        "### Phase-2"
      ]
    },
    {
      "cell_type": "code",
      "execution_count": null,
      "metadata": {
        "id": "ldYorePPUbKV"
      },
      "outputs": [],
      "source": [
        "# Define function to remove replicas\n",
        "def removeReplica(record):\n",
        "\n",
        "    if(isinstance(record[0], tuple)):\n",
        "        x1 = record[0]\n",
        "        x2 = record[1]\n",
        "    else:\n",
        "        x1 = [record[0]]\n",
        "        x2 = record[1]\n",
        "\n",
        "    if(any(x == x2 for x in x1) == False):\n",
        "        a = list(x1)\n",
        "        a.append(x2)\n",
        "        a.sort()\n",
        "        result = tuple(a)\n",
        "        return result \n",
        "    else:\n",
        "        return x1"
      ]
    },
    {
      "cell_type": "code",
      "source": [
        "c = 2\n",
        "\n",
        "while (supportRdd.isEmpty() == False):\n",
        "\n",
        "    combined = supportRdd.cartesian(uniqueItems)\n",
        "    combined = combined.map(lambda item: removeReplica(item))\n",
        "\n",
        "    combined = combined.filter(lambda item: len(item) == c)\n",
        "    combined = combined.distinct()\n",
        "\n",
        "    combined_2 = combined.cartesian(lblitems)\n",
        "    combined_2 = combined_2.filter(lambda item: all(x in item[1] for x in item[0]))\n",
        "\n",
        "    combined_2 = combined_2.map(lambda item: item[0])\n",
        "    combined_2 = combined_2.map(lambda item: (item , 1))\n",
        "    combined_2 = combined_2.reduceByKey(sumOperator)\n",
        "    combined_2 = combined_2.filter(lambda item: item[1] >= minSupport)\n",
        "\n",
        "    baseRdd = baseRdd.union(combined_2)\n",
        "\n",
        "    combined_2 = combined_2.map(lambda item: item[0])\n",
        "    supportRdd = combined_2\n",
        "    print(c ,'. Table has been created... ')\n",
        "    c = c+1"
      ],
      "metadata": {
        "id": "6BPXc8MQeAZZ",
        "colab": {
          "base_uri": "https://localhost:8080/"
        },
        "outputId": "b8766ed9-0992-40da-efa9-2ba917ef078a"
      },
      "execution_count": null,
      "outputs": [
        {
          "metadata": {
            "tags": null
          },
          "name": "stdout",
          "output_type": "stream",
          "text": [
            "2 . Table has been created... \n",
            "3 . Table has been created... \n"
          ]
        }
      ]
    },
    {
      "cell_type": "code",
      "execution_count": null,
      "metadata": {
        "id": "YU6tX_-UUvjs"
      },
      "outputs": [],
      "source": [
        "# Filter catersian RDD according to conditions \n",
        "# Condition 1- If both tuple elements lenght are same \n",
        "# Condition 2- Check it is a tuple or single str object (which first table that show single items supports)\n",
        "\n",
        "class Filter():\n",
        "\n",
        "    def __init__(self):\n",
        "        \n",
        "        self.stages = 1\n",
        "\n",
        "    def filterForConf(self, item):\n",
        "\n",
        "        if(len(item[0][0]) > len(item[1][0])  ):\n",
        "            if(self.checkItemSets(item[0][0] , item[1][0]) == False):\n",
        "                pass\n",
        "            else:\n",
        "                return (item)       \n",
        "        else:\n",
        "            pass  \n",
        "        self.stages = self.stages + 1\n",
        "\n",
        "    # Check Items sets includes at least one comman item // Example command: # any(l == k for k in z for l in x )\n",
        "    def checkItemSets(self, item_1 , item_2):\n",
        "\n",
        "        if(len(item_1) > len(item_2)):\n",
        "            return all(any(k == l for k in item_1 ) for l in item_2)\n",
        "        else:\n",
        "            return all(any(k == l for k in item_2 ) for l in item_1)\n",
        "\n",
        "    def calculateConfidence(self, item):\n",
        "      \n",
        "        # Parent item list\n",
        "        parent = set(item[0][0])\n",
        "        \n",
        "        # Child item list\n",
        "        if(isinstance(item[1][0] , str)):\n",
        "            child  = set([item[1][0]])\n",
        "        else:\n",
        "            child  = set(item[1][0])\n",
        "        # Parent and Child support values\n",
        "        parentSupport = item[0][1]\n",
        "        childSupport = item[1][1]\n",
        "        # Finds the item set confidence is going to be found\n",
        "\n",
        "        support = (parentSupport / childSupport)*100\n",
        "\n",
        "        return list([list(child), list(parent.difference(child)), support])"
      ]
    },
    {
      "cell_type": "code",
      "source": [
        "# Example ((('x10', 'x3', 'x6', 'x7', 'x9'), 1), (('x10', 'x3', 'x7'), 1))\n",
        "sets = baseRdd.cartesian(baseRdd)"
      ],
      "metadata": {
        "id": "LZ8t0yO_Fm-I"
      },
      "execution_count": null,
      "outputs": []
    },
    {
      "cell_type": "code",
      "source": [
        "sets.take(10)"
      ],
      "metadata": {
        "colab": {
          "base_uri": "https://localhost:8080/"
        },
        "id": "2FcdqAng7kRD",
        "outputId": "2e867862-768d-4c22-ab5f-75ca993c8840"
      },
      "execution_count": null,
      "outputs": [
        {
          "output_type": "execute_result",
          "data": {
            "text/plain": [
              "[((['three'], 19), (['three'], 19)),\n",
              " ((['three'], 19), (['run'], 11)),\n",
              " ((['three'], 19), (['home'], 18)),\n",
              " ((['three'], 19), (['question'], 6)),\n",
              " ((['three'], 19), (['love'], 7)),\n",
              " ((['three'], 19), (['whose'], 5)),\n",
              " ((['three'], 19), (['work'], 12)),\n",
              " ((['three'], 19), (['cannot'], 6)),\n",
              " ((['three'], 19), (['let'], 6)),\n",
              " ((['three'], 19), (['go'], 15))]"
            ]
          },
          "metadata": {},
          "execution_count": 63
        }
      ]
    },
    {
      "cell_type": "code",
      "source": [
        "ff = Filter()"
      ],
      "metadata": {
        "id": "Zxblb4uC5_8D"
      },
      "execution_count": null,
      "outputs": []
    },
    {
      "cell_type": "code",
      "source": [
        "filtered = sets.filter(lambda item: ff.filterForConf(item))\n",
        "print('# : Aggregated support values preparing for the confidence calculatations')"
      ],
      "metadata": {
        "colab": {
          "base_uri": "https://localhost:8080/"
        },
        "id": "YH6qaC7rbeeH",
        "outputId": "1433867f-9da6-4622-8f09-67ece3ce87d1"
      },
      "execution_count": null,
      "outputs": [
        {
          "output_type": "stream",
          "name": "stdout",
          "text": [
            "# : Aggregated support values preparing for the confidence calculatations\n"
          ]
        }
      ]
    },
    {
      "cell_type": "code",
      "source": [
        "filtered.take(10)"
      ],
      "metadata": {
        "colab": {
          "base_uri": "https://localhost:8080/"
        },
        "id": "dPlG7Bkg7J-P",
        "outputId": "f05c824d-1696-4595-deaf-d5935887e0f1"
      },
      "execution_count": null,
      "outputs": [
        {
          "output_type": "execute_result",
          "data": {
            "text/plain": [
              "[((('said', 'work'), 5), (['work'], 12)),\n",
              " ((('said', 'work'), 5), (['said'], 113)),\n",
              " ((('said', 'would'), 16), (['would'], 41)),\n",
              " ((('said', 'would'), 16), (['said'], 113)),\n",
              " ((('last', 'year'), 13), (['year'], 56)),\n",
              " ((('last', 'year'), 13), (['last'], 26)),\n",
              " ((('last', 'said'), 6), (['said'], 113)),\n",
              " ((('said', 'school'), 8), (['said'], 113)),\n",
              " ((('got', 'said'), 5), (['said'], 113)),\n",
              " ((('say', 'year'), 5), (['year'], 56))]"
            ]
          },
          "metadata": {},
          "execution_count": 66
        }
      ]
    },
    {
      "cell_type": "code",
      "source": [
        "confidences = filtered.map(lambda item: ff.calculateConfidence(item))\n",
        "print('# : Confidence is calculated!')"
      ],
      "metadata": {
        "id": "NNlcHcCTFwEu",
        "colab": {
          "base_uri": "https://localhost:8080/"
        },
        "outputId": "9f379c81-acd7-4060-bbbe-43c2ba9beec1"
      },
      "execution_count": null,
      "outputs": [
        {
          "output_type": "stream",
          "name": "stdout",
          "text": [
            "# : Confidence is calculated!\n"
          ]
        }
      ]
    },
    {
      "cell_type": "code",
      "source": [
        "confidences.take(10)"
      ],
      "metadata": {
        "colab": {
          "base_uri": "https://localhost:8080/"
        },
        "id": "KNK5eJv2TuOH",
        "outputId": "edfa0894-4934-459b-d195-db0e391c25a7"
      },
      "execution_count": null,
      "outputs": [
        {
          "output_type": "execute_result",
          "data": {
            "text/plain": [
              "[[['work'], ['said'], 41.66666666666667],\n",
              " [['said'], ['work'], 4.424778761061947],\n",
              " [['would'], ['said'], 39.02439024390244],\n",
              " [['said'], ['would'], 14.15929203539823],\n",
              " [['year'], ['last'], 23.214285714285715],\n",
              " [['last'], ['year'], 50.0],\n",
              " [['said'], ['last'], 5.3097345132743365],\n",
              " [['said'], ['school'], 7.079646017699115],\n",
              " [['said'], ['got'], 4.424778761061947],\n",
              " [['year'], ['say'], 8.928571428571429]]"
            ]
          },
          "metadata": {},
          "execution_count": 68
        }
      ]
    },
    {
      "cell_type": "code",
      "execution_count": null,
      "metadata": {
        "id": "Er98uC_XUxj1",
        "colab": {
          "base_uri": "https://localhost:8080/"
        },
        "outputId": "945a95f7-e40f-470c-f693-1e84ad2564b3"
      },
      "outputs": [
        {
          "output_type": "stream",
          "name": "stdout",
          "text": [
            "      Antecedent Consequent  Confidence\n",
            "101      [louis]       [st]  100.000000\n",
            "61       [going]     [said]   91.666667\n",
            "45   [authority]     [said]   83.333333\n",
            "78        [feel]     [said]   83.333333\n",
            "33        [need]     [said]   71.428571\n",
            "..           ...        ...         ...\n",
            "74        [said]     [feel]    4.424779\n",
            "72        [said]  [getting]    4.424779\n",
            "116       [said]   [county]    4.424779\n",
            "42        [said]   [change]    4.424779\n",
            "87        [said]   [little]    4.424779\n",
            "\n",
            "[130 rows x 3 columns]\n"
          ]
        }
      ],
      "source": [
        "## Import pandas modules\n",
        "import pandas as pd\n",
        "\n",
        "## Create an array with collected baseRddConfidence results\n",
        "result = confidences.collect()\n",
        "\n",
        "## Create Data Frame\n",
        "confidenceTable = pd.DataFrame(data = result , columns=[\"Antecedent\", \"Consequent\" , \"Confidence\"])\n",
        "\n",
        "## Show data frame\n",
        "print(confidenceTable.sort_values(by=['Confidence'], ascending = False))"
      ]
    },
    {
      "cell_type": "markdown",
      "source": [
        "## FP-Growth Algorithm"
      ],
      "metadata": {
        "id": "5t7eoyphj1s-"
      }
    },
    {
      "cell_type": "markdown",
      "source": [
        "### Load dataset in spark"
      ],
      "metadata": {
        "id": "Ofxb3GO9hCfW"
      }
    },
    {
      "cell_type": "code",
      "source": [
        "# Reading Data Set with PySpark\n",
        "path = \"fp-growth.csv\"\n",
        "schema = StructType([\\\n",
        "    StructField(\"id\", IntegerType(), True),\\\n",
        "    StructField(\"items\", StringType(), True)])\n",
        "dataset = spark.read.schema(schema).csv(path)"
      ],
      "metadata": {
        "id": "Mvg1ryVX7l1p"
      },
      "execution_count": null,
      "outputs": []
    },
    {
      "cell_type": "code",
      "source": [
        "dataset.printSchema()"
      ],
      "metadata": {
        "colab": {
          "base_uri": "https://localhost:8080/"
        },
        "id": "cFC7-mdYAQVx",
        "outputId": "5a0f6d14-33af-46ee-8cdd-395349ea0355"
      },
      "execution_count": null,
      "outputs": [
        {
          "output_type": "stream",
          "name": "stdout",
          "text": [
            "root\n",
            " |-- id: integer (nullable = true)\n",
            " |-- items: string (nullable = true)\n",
            "\n"
          ]
        }
      ]
    },
    {
      "cell_type": "code",
      "source": [
        "df = dataset.withColumn(\"items\", split(regexp_replace(col(\"items\"), '[\\\\[\\\\]]', \"\"), \",\"))"
      ],
      "metadata": {
        "id": "yHZC97BLZaZ9"
      },
      "execution_count": null,
      "outputs": []
    },
    {
      "cell_type": "code",
      "source": [
        "df.printSchema()"
      ],
      "metadata": {
        "colab": {
          "base_uri": "https://localhost:8080/"
        },
        "id": "h3i01o95ZjPx",
        "outputId": "64647c3d-497a-4402-92b4-a5c60cdfd83d"
      },
      "execution_count": null,
      "outputs": [
        {
          "output_type": "stream",
          "name": "stdout",
          "text": [
            "root\n",
            " |-- id: integer (nullable = true)\n",
            " |-- items: array (nullable = true)\n",
            " |    |-- element: string (containsNull = false)\n",
            "\n"
          ]
        }
      ]
    },
    {
      "cell_type": "code",
      "source": [
        "df.show()"
      ],
      "metadata": {
        "id": "NPOZchL8Z1Z2",
        "colab": {
          "base_uri": "https://localhost:8080/"
        },
        "outputId": "cb85b5d8-0556-484c-bb16-363e66534863"
      },
      "execution_count": null,
      "outputs": [
        {
          "output_type": "stream",
          "name": "stdout",
          "text": [
            "+---+--------------------+\n",
            "| id|               items|\n",
            "+---+--------------------+\n",
            "|  0|['home',  'alone'...|\n",
            "|  1|['st',  'louis', ...|\n",
            "|  2|['wsu',  'plan', ...|\n",
            "|  3|['alaimo',  'grou...|\n",
            "|  4|['often',  'diffi...|\n",
            "|  5|['certain',  'amo...|\n",
            "|  6|['charlevoix',  '...|\n",
            "|  7|['another',  'lon...|\n",
            "|  8|['time',  'report...|\n",
            "|  9|['trying',  'hit'...|\n",
            "| 10|['mhta',  'presid...|\n",
            "| 11|['absurdity',  'a...|\n",
            "| 12|['gm',  'labor', ...|\n",
            "| 13|['wandry',  'matt...|\n",
            "| 14|['cheap',  'said'...|\n",
            "| 15|['andrade',  'chi...|\n",
            "| 16|['let',  'hair', ...|\n",
            "| 17|['born',  'april'...|\n",
            "| 18|['house',  'minor...|\n",
            "| 19|['first',  'love'...|\n",
            "+---+--------------------+\n",
            "only showing top 20 rows\n",
            "\n"
          ]
        }
      ]
    },
    {
      "cell_type": "markdown",
      "source": [
        "### Model"
      ],
      "metadata": {
        "id": "2eUYqN5YhF9B"
      }
    },
    {
      "cell_type": "code",
      "source": [
        "from pyspark.ml.fpm import FPGrowth\n",
        "\n",
        "fpGrowth = FPGrowth(itemsCol=\"items\", minSupport=0.02, minConfidence=0.02)\n",
        "model = fpGrowth.fit(df)"
      ],
      "metadata": {
        "id": "jOxK0F-exw4m"
      },
      "execution_count": null,
      "outputs": []
    },
    {
      "cell_type": "markdown",
      "source": [
        "### Results"
      ],
      "metadata": {
        "id": "Hxr94GnchI5K"
      }
    },
    {
      "cell_type": "code",
      "source": [
        "# Display frequent itemsets.\n",
        "items = model.freqItemsets"
      ],
      "metadata": {
        "id": "GU26ncLSNRfs"
      },
      "execution_count": null,
      "outputs": []
    },
    {
      "cell_type": "code",
      "source": [
        "items.show()"
      ],
      "metadata": {
        "colab": {
          "base_uri": "https://localhost:8080/"
        },
        "id": "W13YYgGHTf0i",
        "outputId": "0550ab18-0722-4e6f-b20c-f64756f00fda"
      },
      "execution_count": null,
      "outputs": [
        {
          "output_type": "stream",
          "name": "stdout",
          "text": [
            "+--------------+-----+\n",
            "|         items| freq|\n",
            "+--------------+-----+\n",
            "|     [ 'give']|13403|\n",
            "|    [ 'among']|10668|\n",
            "|    [ 'night']|17597|\n",
            "|    [ 'event']|11121|\n",
            "|     [ 'york']|11943|\n",
            "|   [ 'health']|12779|\n",
            "|   [ 'office']|15790|\n",
            "|   [ 'better']|14466|\n",
            "|    [ 'world']|16258|\n",
            "|    [ 'never']|14725|\n",
            "|     [ 'room']|11430|\n",
            "|    [ 'early']|12198|\n",
            "|  [ 'service']|18020|\n",
            "|   [ 'change']|12885|\n",
            "|    [ 'point']|22520|\n",
            "|[ 'including']|19745|\n",
            "|   [ 'season']|27323|\n",
            "| [ 'national']|13620|\n",
            "|      [ 'run']|20653|\n",
            "|[ 'community']|13948|\n",
            "+--------------+-----+\n",
            "only showing top 20 rows\n",
            "\n"
          ]
        }
      ]
    },
    {
      "cell_type": "code",
      "source": [
        "# Display generated association rules.\n",
        "rules = model.associationRules"
      ],
      "metadata": {
        "id": "Nb_7bqpxzYOE"
      },
      "execution_count": null,
      "outputs": []
    },
    {
      "cell_type": "code",
      "source": [
        "rules.show()"
      ],
      "metadata": {
        "colab": {
          "base_uri": "https://localhost:8080/"
        },
        "id": "StdvACX8TidL",
        "outputId": "1e3ec887-d31f-4801-c18a-06b6863ecd6e"
      },
      "execution_count": null,
      "outputs": [
        {
          "output_type": "stream",
          "name": "stdout",
          "text": [
            "+----------+----------+-------------------+------------------+--------------------+\n",
            "|antecedent|consequent|         confidence|              lift|             support|\n",
            "+----------+----------+-------------------+------------------+--------------------+\n",
            "|[ 'would']| [ 'said']| 0.3343840137976152|1.5113134165485431|0.022261992671062974|\n",
            "| [ 'said']| [ 'year']|0.10348962061560486|0.9916960996912486| 0.02289748396918758|\n",
            "| [ 'said']|[ 'would']|0.10061739441660701| 1.511313416548543|0.022261992671062974|\n",
            "| [ 'year']| [ 'said']|0.21941664690538298|0.9916960996912487| 0.02289748396918758|\n",
            "+----------+----------+-------------------+------------------+--------------------+\n",
            "\n"
          ]
        }
      ]
    }
  ],
  "metadata": {
    "colab": {
      "collapsed_sections": [
        "lJaiiYivd68R",
        "6UqWPA6w52wN",
        "XlKANqB33a2H",
        "P_CHskO4eNxo",
        "NtUw-ZIJ1B2B",
        "ctshc0ecj9C0",
        "RM39RaJEkK_j",
        "KKUNJ56YkOcB",
        "-FBBo0SFkaLw",
        "5xHqL2IJkclc",
        "D08Iym5kkp9M",
        "QPjB2vnN0TUg",
        "HX2WPJc_0X_K",
        "nPIAK0Tu3OqS",
        "hhJkBkCUkyfC",
        "gpYp-i8Ik-D0",
        "ct5UygO6lVkO",
        "5t7eoyphj1s-"
      ],
      "provenance": [],
      "include_colab_link": true
    },
    "kernelspec": {
      "display_name": "Python 3",
      "name": "python3"
    },
    "language_info": {
      "name": "python"
    },
    "gpuClass": "standard"
  },
  "nbformat": 4,
  "nbformat_minor": 0
}